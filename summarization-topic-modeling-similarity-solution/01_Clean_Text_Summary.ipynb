{
 "cells": [
  {
   "cell_type": "code",
   "execution_count": 19,
   "metadata": {},
   "outputs": [
    {
     "name": "stdout",
     "output_type": "stream",
     "text": [
      "Requirement already satisfied: symspellpy in \\\\oitphchsmsmb6000b.va.gov\\vaco_users$\\vacofredrd\\desktop\\cmv-commitee-rec-nlp\\env\\lib\\site-packages (6.7.7)\n",
      "Requirement already satisfied: editdistpy>=0.1.3 in \\\\oitphchsmsmb6000b.va.gov\\vaco_users$\\vacofredrd\\desktop\\cmv-commitee-rec-nlp\\env\\lib\\site-packages (from symspellpy) (0.1.3)\n"
     ]
    }
   ],
   "source": [
    "!pip install -U symspellpy"
   ]
  },
  {
   "cell_type": "code",
   "execution_count": 20,
   "metadata": {},
   "outputs": [],
   "source": [
    "import os\n",
    "import sys\n",
    "module_path = os.path.abspath(os.path.join('..'))\n",
    "if module_path not in sys.path:\n",
    "    sys.path.append(module_path)\n",
    "    \n",
    "from src.data_clean_functions import *"
   ]
  },
  {
   "cell_type": "code",
   "execution_count": 21,
   "metadata": {},
   "outputs": [],
   "source": [
    "import numpy as np\n",
    "import pandas as pd"
   ]
  },
  {
   "cell_type": "code",
   "execution_count": 22,
   "metadata": {},
   "outputs": [],
   "source": [
    "reports = pd.read_csv('../CMV Reports Text.csv')\n",
    "report_dates = pd.read_csv('../CMV_Report_Dates.csv')"
   ]
  },
  {
   "cell_type": "code",
   "execution_count": 23,
   "metadata": {},
   "outputs": [],
   "source": [
    "\n",
    "lastrow = pd.DataFrame({'PageNumber': reports.sort_values('PageNumber').iloc[-1]['PageNumber'], \n",
    "                                                      'Year': report_dates.iloc[-1]['Year']}, index=[0])"
   ]
  },
  {
   "cell_type": "code",
   "execution_count": 24,
   "metadata": {},
   "outputs": [],
   "source": [
    "\n",
    "report_dates = pd.concat([report_dates, lastrow]).reset_index(drop=True)"
   ]
  },
  {
   "cell_type": "code",
   "execution_count": 25,
   "metadata": {},
   "outputs": [],
   "source": [
    "def create_rows_between(report_dates):\n",
    "    report_between = pd.DataFrame(columns = ['PageNumber', 'Year'])\n",
    "    years  = []\n",
    "    pagenums = []\n",
    "    for i in range(1, len(report_dates)):\n",
    "        between_n = report_dates['PageNumber'][i] - report_dates['PageNumber'][i-1] -1\n",
    "        years.extend(np.repeat([report_dates['Year'][i-1]], between_n ))\n",
    "        \n",
    "        prev = report_dates['PageNumber'][i-1]\n",
    "        for k in range(between_n):\n",
    "            curr = prev + 1\n",
    "            pagenums.append(curr)\n",
    "            prev = curr\n",
    "            \n",
    "    report_between['Year'] = years \n",
    "    report_between['PageNumber'] = pagenums \n",
    "    \n",
    "    return report_between\n",
    "report_between = create_rows_between(report_dates)\n"
   ]
  },
  {
   "cell_type": "code",
   "execution_count": 26,
   "metadata": {},
   "outputs": [],
   "source": [
    "report_dates = pd.concat([report_dates, report_between])\n",
    "# merge report text with dates\n",
    "reports = reports.merge(report_dates, how = 'outer').reset_index(drop=True)"
   ]
  },
  {
   "cell_type": "code",
   "execution_count": 27,
   "metadata": {},
   "outputs": [
    {
     "data": {
      "text/html": [
       "<div>\n",
       "<style scoped>\n",
       "    .dataframe tbody tr th:only-of-type {\n",
       "        vertical-align: middle;\n",
       "    }\n",
       "\n",
       "    .dataframe tbody tr th {\n",
       "        vertical-align: top;\n",
       "    }\n",
       "\n",
       "    .dataframe thead th {\n",
       "        text-align: right;\n",
       "    }\n",
       "</style>\n",
       "<table border=\"1\" class=\"dataframe\">\n",
       "  <thead>\n",
       "    <tr style=\"text-align: right;\">\n",
       "      <th></th>\n",
       "      <th>PageNumber</th>\n",
       "      <th>ReportText</th>\n",
       "      <th>IsTableOfContents</th>\n",
       "      <th>IsCoverPage</th>\n",
       "      <th>DocumentBegin</th>\n",
       "      <th>IsAttatchment</th>\n",
       "      <th>Year</th>\n",
       "    </tr>\n",
       "  </thead>\n",
       "  <tbody>\n",
       "    <tr>\n",
       "      <th>0</th>\n",
       "      <td>1</td>\n",
       "      <td>Ne eae |\\r\\nTHE SECOND ANNUAL REPORT\\r\\n/ OF T...</td>\n",
       "      <td>0</td>\n",
       "      <td>1</td>\n",
       "      <td>1</td>\n",
       "      <td>0</td>\n",
       "      <td>1996</td>\n",
       "    </tr>\n",
       "    <tr>\n",
       "      <th>1</th>\n",
       "      <td>2</td>\n",
       "      <td>is DEPARTMENT OF VETERANS AFFAIRS\\r\\ny “RY % a...</td>\n",
       "      <td>1</td>\n",
       "      <td>0</td>\n",
       "      <td>0</td>\n",
       "      <td>0</td>\n",
       "      <td>1996</td>\n",
       "    </tr>\n",
       "    <tr>\n",
       "      <th>2</th>\n",
       "      <td>3</td>\n",
       "      <td>i a\\r\\nStatement of the Chairman, Advisory Com...</td>\n",
       "      <td>1</td>\n",
       "      <td>0</td>\n",
       "      <td>0</td>\n",
       "      <td>0</td>\n",
       "      <td>1996</td>\n",
       "    </tr>\n",
       "    <tr>\n",
       "      <th>3</th>\n",
       "      <td>4</td>\n",
       "      <td>A great many people throughout the Congress of...</td>\n",
       "      <td>1</td>\n",
       "      <td>0</td>\n",
       "      <td>0</td>\n",
       "      <td>0</td>\n",
       "      <td>1996</td>\n",
       "    </tr>\n",
       "    <tr>\n",
       "      <th>4</th>\n",
       "      <td>5</td>\n",
       "      <td>TABLE OF CONTENTS\\r\\nStatement of the Chairman...</td>\n",
       "      <td>0</td>\n",
       "      <td>0</td>\n",
       "      <td>0</td>\n",
       "      <td>0</td>\n",
       "      <td>1996</td>\n",
       "    </tr>\n",
       "    <tr>\n",
       "      <th>...</th>\n",
       "      <td>...</td>\n",
       "      <td>...</td>\n",
       "      <td>...</td>\n",
       "      <td>...</td>\n",
       "      <td>...</td>\n",
       "      <td>...</td>\n",
       "      <td>...</td>\n",
       "    </tr>\n",
       "    <tr>\n",
       "      <th>1011</th>\n",
       "      <td>1012</td>\n",
       "      <td>Among her many professional honors, Col. Carri...</td>\n",
       "      <td>0</td>\n",
       "      <td>0</td>\n",
       "      <td>0</td>\n",
       "      <td>1</td>\n",
       "      <td>2020</td>\n",
       "    </tr>\n",
       "    <tr>\n",
       "      <th>1012</th>\n",
       "      <td>1013</td>\n",
       "      <td>Margaret G. “Muggs” Garvin\\r\\nAmerican Indian\\...</td>\n",
       "      <td>0</td>\n",
       "      <td>0</td>\n",
       "      <td>0</td>\n",
       "      <td>1</td>\n",
       "      <td>2020</td>\n",
       "    </tr>\n",
       "    <tr>\n",
       "      <th>1013</th>\n",
       "      <td>1014</td>\n",
       "      <td>In addition, he served on active duty in the U...</td>\n",
       "      <td>0</td>\n",
       "      <td>0</td>\n",
       "      <td>0</td>\n",
       "      <td>1</td>\n",
       "      <td>2020</td>\n",
       "    </tr>\n",
       "    <tr>\n",
       "      <th>1014</th>\n",
       "      <td>1015</td>\n",
       "      <td>**Ginger Miller\\r\\nAfrican American\\r\\nGinger ...</td>\n",
       "      <td>0</td>\n",
       "      <td>0</td>\n",
       "      <td>0</td>\n",
       "      <td>1</td>\n",
       "      <td>2020</td>\n",
       "    </tr>\n",
       "    <tr>\n",
       "      <th>1015</th>\n",
       "      <td>1016</td>\n",
       "      <td>Glenda Wrenn Gordon, MD, MSHP, FAPA\\r\\nAfrican...</td>\n",
       "      <td>0</td>\n",
       "      <td>0</td>\n",
       "      <td>0</td>\n",
       "      <td>1</td>\n",
       "      <td>2020</td>\n",
       "    </tr>\n",
       "  </tbody>\n",
       "</table>\n",
       "<p>1016 rows × 7 columns</p>\n",
       "</div>"
      ],
      "text/plain": [
       "      PageNumber                                         ReportText  \\\n",
       "0              1  Ne eae |\\r\\nTHE SECOND ANNUAL REPORT\\r\\n/ OF T...   \n",
       "1              2  is DEPARTMENT OF VETERANS AFFAIRS\\r\\ny “RY % a...   \n",
       "2              3  i a\\r\\nStatement of the Chairman, Advisory Com...   \n",
       "3              4  A great many people throughout the Congress of...   \n",
       "4              5  TABLE OF CONTENTS\\r\\nStatement of the Chairman...   \n",
       "...          ...                                                ...   \n",
       "1011        1012  Among her many professional honors, Col. Carri...   \n",
       "1012        1013  Margaret G. “Muggs” Garvin\\r\\nAmerican Indian\\...   \n",
       "1013        1014  In addition, he served on active duty in the U...   \n",
       "1014        1015  **Ginger Miller\\r\\nAfrican American\\r\\nGinger ...   \n",
       "1015        1016  Glenda Wrenn Gordon, MD, MSHP, FAPA\\r\\nAfrican...   \n",
       "\n",
       "      IsTableOfContents  IsCoverPage  DocumentBegin  IsAttatchment  Year  \n",
       "0                     0            1              1              0  1996  \n",
       "1                     1            0              0              0  1996  \n",
       "2                     1            0              0              0  1996  \n",
       "3                     1            0              0              0  1996  \n",
       "4                     0            0              0              0  1996  \n",
       "...                 ...          ...            ...            ...   ...  \n",
       "1011                  0            0              0              1  2020  \n",
       "1012                  0            0              0              1  2020  \n",
       "1013                  0            0              0              1  2020  \n",
       "1014                  0            0              0              1  2020  \n",
       "1015                  0            0              0              1  2020  \n",
       "\n",
       "[1016 rows x 7 columns]"
      ]
     },
     "execution_count": 27,
     "metadata": {},
     "output_type": "execute_result"
    }
   ],
   "source": [
    "reports"
   ]
  },
  {
   "cell_type": "code",
   "execution_count": 28,
   "metadata": {},
   "outputs": [],
   "source": [
    "\n",
    "reports['ReportText'] = [\n",
    "    remove_extra_space(\n",
    "        remove_rare_special_character(\n",
    "            fix_typo(\n",
    "                remove_lo(\n",
    "                    remove_vertical_line(\n",
    "                        fix_roma_numbers(\n",
    "                            remove_extra_dot(\n",
    "                                remove_hyphen(\n",
    "                                    remove_colon(\n",
    "                                        remove_quotes(\n",
    "                                            replace_quotes(\n",
    "                                                remove_bracket(\n",
    "                                                    normalize_week(\n",
    "                                                        normalize_month(\n",
    "                                                            normalize_year(\n",
    "                                                                normalize_new_lines(\n",
    "                                                                    i.lower()\n",
    "                                                                )\n",
    "                                                            )\n",
    "                                                        )\n",
    "                                                    )\n",
    "                                                )\n",
    "                                            )\n",
    "                                        )\n",
    "                                    )\n",
    "                                )\n",
    "                            )\n",
    "                        )\n",
    "                    )\n",
    "                )\n",
    "            )\n",
    "        )\n",
    "    ).strip() for i in reports['ReportText']]\n"
   ]
  },
  {
   "cell_type": "code",
   "execution_count": 29,
   "metadata": {},
   "outputs": [],
   "source": [
    "\n",
    "TOC_idx = [i for i, s in enumerate(reports['ReportText']) if re.findall(\"TABLE OF CONTENTs?( ?)+(page)?\\n\".lower(), s ) ]"
   ]
  },
  {
   "cell_type": "code",
   "execution_count": 30,
   "metadata": {},
   "outputs": [],
   "source": [
    "# there should be 23 \"table of contents\"\n",
    "reports_TOC = reports.iloc[TOC_idx]"
   ]
  },
  {
   "cell_type": "code",
   "execution_count": 31,
   "metadata": {},
   "outputs": [],
   "source": [
    "# adding table of content page for 2016\n",
    "reports_TOC = pd.concat([reports_TOC, reports[reports['PageNumber'] == 844]]).reset_index(drop=True)\n",
    "# now we are only missing 2010 and 2019 which is true in the original doc"
   ]
  },
  {
   "cell_type": "code",
   "execution_count": 32,
   "metadata": {},
   "outputs": [],
   "source": [
    "# add table of content manually\n",
    "reports_TOC = pd.concat([reports_TOC, pd.DataFrame({'PageNumber':190,\n",
    "'ReportText':'table of contents\\nintroduction\\ngeneral overview\\nReport on the wilmington, de, meeting\\ngeneral\\nveterans entrepreneurship\\nVeterans Entrepreneurship and Small Business Development\\nWorkforce Diversity Plan\\nGeneral\\nSecretary Principis Comments\\nVeterans Benefit Clearinghouse VBC \\nVocational Rehabilitation & Employment Service\\nServing Native American Veterans\\nHepatitis C Treatment\\nCenter for Minority Veterans\\nCommittee Recommendations\\nAppendix A\\nAppendix B\\nAdvisory Committee Agenda Continued\\nAppendix C\\n'.lower(),\n",
    "'IsTableOfContents': 1,\n",
    "'IsCoverPage': 0,\n",
    "'DocumentBegin': 1,\n",
    "'IsAttatchment': 0,\n",
    "'Year': 2001}, index = [0])]).reset_index(drop=True)\n"
   ]
  },
  {
   "cell_type": "code",
   "execution_count": 33,
   "metadata": {},
   "outputs": [],
   "source": [
    "reports_TOC['IsTableOfContents1'] = 1"
   ]
  },
  {
   "cell_type": "code",
   "execution_count": 34,
   "metadata": {},
   "outputs": [],
   "source": [
    "reports = reports.merge(reports_TOC[['PageNumber', 'IsTableOfContents1']], how = 'left').reset_index(drop=True)"
   ]
  },
  {
   "cell_type": "code",
   "execution_count": 35,
   "metadata": {},
   "outputs": [],
   "source": [
    "import math\n",
    "reports['IsTableOfContents1'] = [0 if math.isnan(i) else int(i) for i in reports['IsTableOfContents1']]"
   ]
  },
  {
   "cell_type": "code",
   "execution_count": 36,
   "metadata": {},
   "outputs": [],
   "source": [
    "articleDF = pd.DataFrame(columns = ['Title', 'ArticleText', 'PageNumber'])\n",
    "for k in range(len(reports_TOC)):\n",
    "    articleDF = pd.concat([articleDF, separate_text_into_articles(reports, reports_TOC, k)])"
   ]
  },
  {
   "cell_type": "code",
   "execution_count": 38,
   "metadata": {},
   "outputs": [
    {
     "data": {
      "text/plain": [
       "['table of contents',\n",
       " 'subjects page',\n",
       " 'letter from the advisory committee chai',\n",
       " 'part executive summa',\n",
       " 'town hall meeting – houston, texas',\n",
       " 'page of']"
      ]
     },
     "execution_count": 38,
     "metadata": {},
     "output_type": "execute_result"
    }
   ],
   "source": [
    "k = 20\n",
    "articleTitles = clean_table_of_content(reports_TOC, k)\n",
    "report_i = get_report_one_year(reports, reports_TOC, k)\n",
    "matchedTitle, pageNum, titleStart = find_title(articleTitles, report_i)\n",
    "[i for i in articleTitles if i not in matchedTitle] "
   ]
  },
  {
   "cell_type": "code",
   "execution_count": 39,
   "metadata": {},
   "outputs": [
    {
     "data": {
      "text/plain": [
       "['table of contents',\n",
       " 'subjects page',\n",
       " 'letter from the advisory committee chai',\n",
       " 'part executive summa',\n",
       " 'summary of year recommendations',\n",
       " 'acmv year recommendations, rationales, and va responses',\n",
       " 'agenda year washington, d.c. departmental briefings',\n",
       " 'agenda houston site visit',\n",
       " 'town hall meeting – houston, texas',\n",
       " 'exit briefing with houston regional office, michael e. debakey va medical',\n",
       " 'and houston national cemetery',\n",
       " 'agenda year washington, d.c. departmental briefings',\n",
       " 'action plans follow up',\n",
       " 'advisory committee biographies',\n",
       " 'page of']"
      ]
     },
     "execution_count": 39,
     "metadata": {},
     "output_type": "execute_result"
    }
   ],
   "source": [
    "articleTitles\n"
   ]
  },
  {
   "cell_type": "code",
   "execution_count": 40,
   "metadata": {},
   "outputs": [
    {
     "data": {
      "text/plain": [
       "['table of contents\\nsubjects page\\nletter from the advisory committee chai 4\\npart executive summa 5\\npart ii summary of year recommendations 6\\npart iii acmv year recommendations, rationales, and va responses\\npart iv agenda year washington, d.c. departmental briefings\\npart v agenda houston site visit\\npart vi town hall meeting – houston, texas\\npart vii exit briefing with houston regional office, michael e. debakey va medical 23\\nand houston national cemetery\\npart viii agenda year washington, d.c. departmental briefings\\nappendix a action plans follow up\\nappendix b advisory committee biographies 39\\npage 3 of 44']"
      ]
     },
     "execution_count": 40,
     "metadata": {},
     "output_type": "execute_result"
    }
   ],
   "source": [
    "\n",
    "report_i[report_i['PageNumber'] == 975]['ReportText'].tolist()"
   ]
  },
  {
   "cell_type": "code",
   "execution_count": 41,
   "metadata": {},
   "outputs": [],
   "source": [
    "articleDF = articleDF.reset_index(drop = True)\n",
    "# put index to column\n",
    "articleDF = articleDF.reset_index(drop = False)\n",
    "articleDF = articleDF.rename(columns = {'index': 'ArticleIndex'})\n"
   ]
  },
  {
   "cell_type": "code",
   "execution_count": 42,
   "metadata": {},
   "outputs": [],
   "source": [
    "\n",
    "articleDF['Year'] = [reports[reports['PageNumber'] == i[-1]]['Year'].tolist()[0] for i in articleDF['PageNumber']]\n"
   ]
  },
  {
   "cell_type": "code",
   "execution_count": 43,
   "metadata": {},
   "outputs": [],
   "source": [
    "recommd = articleDF[['recommendation' in i for i in articleDF['Title']]]\n"
   ]
  },
  {
   "cell_type": "code",
   "execution_count": 44,
   "metadata": {},
   "outputs": [
    {
     "data": {
      "text/plain": [
       "array([1996, 1997, 1998, 1999, 2000, 2002, 2004, 2005, 2006, 2007, 2008,\n",
       "       2009, 2011, 2012, 2013, 2014, 2015, 2017, 2018, 2020, 2016, 2001],\n",
       "      dtype=int64)"
      ]
     },
     "execution_count": 44,
     "metadata": {},
     "output_type": "execute_result"
    }
   ],
   "source": [
    "recommd.Year.unique()"
   ]
  },
  {
   "cell_type": "code",
   "execution_count": 45,
   "metadata": {},
   "outputs": [],
   "source": [
    "paragraph = []\n",
    "paragraphNum = []\n",
    "for i in range(len(recommd)):\n",
    "    paraghs = recommd.iloc[i]['ArticleText'].split('\\n\\n')\n",
    "    paragraph.extend(paraghs)\n",
    "    paragraphNum.extend(np.repeat(recommd.iloc[i]['ArticleIndex'], len(paraghs)))\n",
    "paragraphDF = pd.DataFrame({'ParagraphText': paragraph, 'ArticleIndex': paragraphNum})\n"
   ]
  },
  {
   "cell_type": "code",
   "execution_count": 46,
   "metadata": {},
   "outputs": [
    {
     "name": "stderr",
     "output_type": "stream",
     "text": [
      "C:\\Users\\VACOFredrD\\AppData\\Local\\Temp\\5\\ipykernel_21368\\1965977422.py:1: SettingWithCopyWarning: \n",
      "A value is trying to be set on a copy of a slice from a DataFrame.\n",
      "Try using .loc[row_indexer,col_indexer] = value instead\n",
      "\n",
      "See the caveats in the documentation: https://pandas.pydata.org/pandas-docs/stable/user_guide/indexing.html#returning-a-view-versus-a-copy\n",
      "  recommd['ArticleText'] = [remove_new_line(i) for i in recommd['ArticleText']]\n"
     ]
    }
   ],
   "source": [
    "recommd['ArticleText'] = [remove_new_line(i) for i in recommd['ArticleText']]\n"
   ]
  },
  {
   "cell_type": "code",
   "execution_count": 47,
   "metadata": {},
   "outputs": [],
   "source": [
    "recommd = paragraphDF.merge(recommd, how = 'outer')\n"
   ]
  },
  {
   "cell_type": "code",
   "execution_count": 48,
   "metadata": {},
   "outputs": [],
   "source": [
    "\n",
    "recommd['ParagraphText'] = [remove_new_line(i) for i in recommd['ParagraphText']]"
   ]
  },
  {
   "cell_type": "code",
   "execution_count": 49,
   "metadata": {},
   "outputs": [
    {
     "data": {
      "text/html": [
       "<div>\n",
       "<style scoped>\n",
       "    .dataframe tbody tr th:only-of-type {\n",
       "        vertical-align: middle;\n",
       "    }\n",
       "\n",
       "    .dataframe tbody tr th {\n",
       "        vertical-align: top;\n",
       "    }\n",
       "\n",
       "    .dataframe thead th {\n",
       "        text-align: right;\n",
       "    }\n",
       "</style>\n",
       "<table border=\"1\" class=\"dataframe\">\n",
       "  <thead>\n",
       "    <tr style=\"text-align: right;\">\n",
       "      <th></th>\n",
       "      <th>ParagraphText</th>\n",
       "      <th>ArticleIndex</th>\n",
       "      <th>Title</th>\n",
       "      <th>ArticleText</th>\n",
       "      <th>PageNumber</th>\n",
       "      <th>Year</th>\n",
       "    </tr>\n",
       "  </thead>\n",
       "  <tbody>\n",
       "    <tr>\n",
       "      <th>0</th>\n",
       "      <td>based on the its research, collaboration, part...</td>\n",
       "      <td>8</td>\n",
       "      <td>recommendations</td>\n",
       "      <td>based on the its research, collaboration, part...</td>\n",
       "      <td>[17, 18, 19]</td>\n",
       "      <td>1996</td>\n",
       "    </tr>\n",
       "    <tr>\n",
       "      <th>1</th>\n",
       "      <td>2. appropriate 125,000.00 for the fiscal year ...</td>\n",
       "      <td>8</td>\n",
       "      <td>recommendations</td>\n",
       "      <td>based on the its research, collaboration, part...</td>\n",
       "      <td>[17, 18, 19]</td>\n",
       "      <td>1996</td>\n",
       "    </tr>\n",
       "    <tr>\n",
       "      <th>2</th>\n",
       "      <td>3. recognize the appropnate regional and natio...</td>\n",
       "      <td>8</td>\n",
       "      <td>recommendations</td>\n",
       "      <td>based on the its research, collaboration, part...</td>\n",
       "      <td>[17, 18, 19]</td>\n",
       "      <td>1996</td>\n",
       "    </tr>\n",
       "    <tr>\n",
       "      <th>3</th>\n",
       "      <td>4. authonze an assessment be conducted and a r...</td>\n",
       "      <td>8</td>\n",
       "      <td>recommendations</td>\n",
       "      <td>based on the its research, collaboration, part...</td>\n",
       "      <td>[17, 18, 19]</td>\n",
       "      <td>1996</td>\n",
       "    </tr>\n",
       "    <tr>\n",
       "      <th>4</th>\n",
       "      <td>5. establish and fund an intra agency task for...</td>\n",
       "      <td>8</td>\n",
       "      <td>recommendations</td>\n",
       "      <td>based on the its research, collaboration, part...</td>\n",
       "      <td>[17, 18, 19]</td>\n",
       "      <td>1996</td>\n",
       "    </tr>\n",
       "    <tr>\n",
       "      <th>...</th>\n",
       "      <td>...</td>\n",
       "      <td>...</td>\n",
       "      <td>...</td>\n",
       "      <td>...</td>\n",
       "      <td>...</td>\n",
       "      <td>...</td>\n",
       "    </tr>\n",
       "    <tr>\n",
       "      <th>1340</th>\n",
       "      <td>recommendation 1 that the department of vetera...</td>\n",
       "      <td>226</td>\n",
       "      <td>acmv year recommendations, rationales and va r...</td>\n",
       "      <td>recommendation 1 that the department of vetera...</td>\n",
       "      <td>[848, 849, 850, 851, 852]</td>\n",
       "      <td>2016</td>\n",
       "    </tr>\n",
       "    <tr>\n",
       "      <th>1341</th>\n",
       "      <td>7 year ncvas minority veterans report, month y...</td>\n",
       "      <td>226</td>\n",
       "      <td>acmv year recommendations, rationales and va r...</td>\n",
       "      <td>recommendation 1 that the department of vetera...</td>\n",
       "      <td>[848, 849, 850, 851, 852]</td>\n",
       "      <td>2016</td>\n",
       "    </tr>\n",
       "    <tr>\n",
       "      <th>1342</th>\n",
       "      <td>8 https commissiononcare.sites.usa.gov files y...</td>\n",
       "      <td>226</td>\n",
       "      <td>acmv year recommendations, rationales and va r...</td>\n",
       "      <td>recommendation 1 that the department of vetera...</td>\n",
       "      <td>[848, 849, 850, 851, 852]</td>\n",
       "      <td>2016</td>\n",
       "    </tr>\n",
       "    <tr>\n",
       "      <th>1343</th>\n",
       "      <td>the committee recommends that va  number 1. r...</td>\n",
       "      <td>245</td>\n",
       "      <td>committee recommendations</td>\n",
       "      <td>the committee recommends that va  number 1. r...</td>\n",
       "      <td>[201, 202]</td>\n",
       "      <td>2001</td>\n",
       "    </tr>\n",
       "    <tr>\n",
       "      <th>1344</th>\n",
       "      <td>12</td>\n",
       "      <td>245</td>\n",
       "      <td>committee recommendations</td>\n",
       "      <td>the committee recommends that va  number 1. r...</td>\n",
       "      <td>[201, 202]</td>\n",
       "      <td>2001</td>\n",
       "    </tr>\n",
       "  </tbody>\n",
       "</table>\n",
       "<p>1345 rows × 6 columns</p>\n",
       "</div>"
      ],
      "text/plain": [
       "                                          ParagraphText  ArticleIndex  \\\n",
       "0     based on the its research, collaboration, part...             8   \n",
       "1     2. appropriate 125,000.00 for the fiscal year ...             8   \n",
       "2     3. recognize the appropnate regional and natio...             8   \n",
       "3     4. authonze an assessment be conducted and a r...             8   \n",
       "4     5. establish and fund an intra agency task for...             8   \n",
       "...                                                 ...           ...   \n",
       "1340  recommendation 1 that the department of vetera...           226   \n",
       "1341  7 year ncvas minority veterans report, month y...           226   \n",
       "1342  8 https commissiononcare.sites.usa.gov files y...           226   \n",
       "1343   the committee recommends that va  number 1. r...           245   \n",
       "1344                                                12            245   \n",
       "\n",
       "                                                  Title  \\\n",
       "0                                       recommendations   \n",
       "1                                       recommendations   \n",
       "2                                       recommendations   \n",
       "3                                       recommendations   \n",
       "4                                       recommendations   \n",
       "...                                                 ...   \n",
       "1340  acmv year recommendations, rationales and va r...   \n",
       "1341  acmv year recommendations, rationales and va r...   \n",
       "1342  acmv year recommendations, rationales and va r...   \n",
       "1343                          committee recommendations   \n",
       "1344                          committee recommendations   \n",
       "\n",
       "                                            ArticleText  \\\n",
       "0     based on the its research, collaboration, part...   \n",
       "1     based on the its research, collaboration, part...   \n",
       "2     based on the its research, collaboration, part...   \n",
       "3     based on the its research, collaboration, part...   \n",
       "4     based on the its research, collaboration, part...   \n",
       "...                                                 ...   \n",
       "1340  recommendation 1 that the department of vetera...   \n",
       "1341  recommendation 1 that the department of vetera...   \n",
       "1342  recommendation 1 that the department of vetera...   \n",
       "1343   the committee recommends that va  number 1. r...   \n",
       "1344   the committee recommends that va  number 1. r...   \n",
       "\n",
       "                     PageNumber  Year  \n",
       "0                  [17, 18, 19]  1996  \n",
       "1                  [17, 18, 19]  1996  \n",
       "2                  [17, 18, 19]  1996  \n",
       "3                  [17, 18, 19]  1996  \n",
       "4                  [17, 18, 19]  1996  \n",
       "...                         ...   ...  \n",
       "1340  [848, 849, 850, 851, 852]  2016  \n",
       "1341  [848, 849, 850, 851, 852]  2016  \n",
       "1342  [848, 849, 850, 851, 852]  2016  \n",
       "1343                 [201, 202]  2001  \n",
       "1344                 [201, 202]  2001  \n",
       "\n",
       "[1345 rows x 6 columns]"
      ]
     },
     "execution_count": 49,
     "metadata": {},
     "output_type": "execute_result"
    }
   ],
   "source": [
    "recommd"
   ]
  },
  {
   "cell_type": "code",
   "execution_count": 50,
   "metadata": {},
   "outputs": [],
   "source": [
    "\n",
    "recommd_temp = recommd[['ParagraphText','ArticleIndex','ArticleText','Year']]\n"
   ]
  },
  {
   "cell_type": "code",
   "execution_count": 51,
   "metadata": {},
   "outputs": [
    {
     "data": {
      "text/html": [
       "<div>\n",
       "<style scoped>\n",
       "    .dataframe tbody tr th:only-of-type {\n",
       "        vertical-align: middle;\n",
       "    }\n",
       "\n",
       "    .dataframe tbody tr th {\n",
       "        vertical-align: top;\n",
       "    }\n",
       "\n",
       "    .dataframe thead th {\n",
       "        text-align: right;\n",
       "    }\n",
       "</style>\n",
       "<table border=\"1\" class=\"dataframe\">\n",
       "  <thead>\n",
       "    <tr style=\"text-align: right;\">\n",
       "      <th></th>\n",
       "      <th>ParagraphText</th>\n",
       "      <th>ArticleIndex</th>\n",
       "      <th>ArticleText</th>\n",
       "      <th>Year</th>\n",
       "    </tr>\n",
       "  </thead>\n",
       "  <tbody>\n",
       "    <tr>\n",
       "      <th>0</th>\n",
       "      <td>based on the its research, collaboration, part...</td>\n",
       "      <td>8</td>\n",
       "      <td>based on the its research, collaboration, part...</td>\n",
       "      <td>1996</td>\n",
       "    </tr>\n",
       "    <tr>\n",
       "      <th>1</th>\n",
       "      <td>2. appropriate 125,000.00 for the fiscal year ...</td>\n",
       "      <td>8</td>\n",
       "      <td>based on the its research, collaboration, part...</td>\n",
       "      <td>1996</td>\n",
       "    </tr>\n",
       "    <tr>\n",
       "      <th>2</th>\n",
       "      <td>3. recognize the appropnate regional and natio...</td>\n",
       "      <td>8</td>\n",
       "      <td>based on the its research, collaboration, part...</td>\n",
       "      <td>1996</td>\n",
       "    </tr>\n",
       "    <tr>\n",
       "      <th>3</th>\n",
       "      <td>4. authonze an assessment be conducted and a r...</td>\n",
       "      <td>8</td>\n",
       "      <td>based on the its research, collaboration, part...</td>\n",
       "      <td>1996</td>\n",
       "    </tr>\n",
       "    <tr>\n",
       "      <th>4</th>\n",
       "      <td>5. establish and fund an intra agency task for...</td>\n",
       "      <td>8</td>\n",
       "      <td>based on the its research, collaboration, part...</td>\n",
       "      <td>1996</td>\n",
       "    </tr>\n",
       "    <tr>\n",
       "      <th>...</th>\n",
       "      <td>...</td>\n",
       "      <td>...</td>\n",
       "      <td>...</td>\n",
       "      <td>...</td>\n",
       "    </tr>\n",
       "    <tr>\n",
       "      <th>1340</th>\n",
       "      <td>recommendation 1 that the department of vetera...</td>\n",
       "      <td>226</td>\n",
       "      <td>recommendation 1 that the department of vetera...</td>\n",
       "      <td>2016</td>\n",
       "    </tr>\n",
       "    <tr>\n",
       "      <th>1341</th>\n",
       "      <td>7 year ncvas minority veterans report, month y...</td>\n",
       "      <td>226</td>\n",
       "      <td>recommendation 1 that the department of vetera...</td>\n",
       "      <td>2016</td>\n",
       "    </tr>\n",
       "    <tr>\n",
       "      <th>1342</th>\n",
       "      <td>8 https commissiononcare.sites.usa.gov files y...</td>\n",
       "      <td>226</td>\n",
       "      <td>recommendation 1 that the department of vetera...</td>\n",
       "      <td>2016</td>\n",
       "    </tr>\n",
       "    <tr>\n",
       "      <th>1343</th>\n",
       "      <td>the committee recommends that va  number 1. r...</td>\n",
       "      <td>245</td>\n",
       "      <td>the committee recommends that va  number 1. r...</td>\n",
       "      <td>2001</td>\n",
       "    </tr>\n",
       "    <tr>\n",
       "      <th>1344</th>\n",
       "      <td>12</td>\n",
       "      <td>245</td>\n",
       "      <td>the committee recommends that va  number 1. r...</td>\n",
       "      <td>2001</td>\n",
       "    </tr>\n",
       "  </tbody>\n",
       "</table>\n",
       "<p>1345 rows × 4 columns</p>\n",
       "</div>"
      ],
      "text/plain": [
       "                                          ParagraphText  ArticleIndex  \\\n",
       "0     based on the its research, collaboration, part...             8   \n",
       "1     2. appropriate 125,000.00 for the fiscal year ...             8   \n",
       "2     3. recognize the appropnate regional and natio...             8   \n",
       "3     4. authonze an assessment be conducted and a r...             8   \n",
       "4     5. establish and fund an intra agency task for...             8   \n",
       "...                                                 ...           ...   \n",
       "1340  recommendation 1 that the department of vetera...           226   \n",
       "1341  7 year ncvas minority veterans report, month y...           226   \n",
       "1342  8 https commissiononcare.sites.usa.gov files y...           226   \n",
       "1343   the committee recommends that va  number 1. r...           245   \n",
       "1344                                                12            245   \n",
       "\n",
       "                                            ArticleText  Year  \n",
       "0     based on the its research, collaboration, part...  1996  \n",
       "1     based on the its research, collaboration, part...  1996  \n",
       "2     based on the its research, collaboration, part...  1996  \n",
       "3     based on the its research, collaboration, part...  1996  \n",
       "4     based on the its research, collaboration, part...  1996  \n",
       "...                                                 ...   ...  \n",
       "1340  recommendation 1 that the department of vetera...  2016  \n",
       "1341  recommendation 1 that the department of vetera...  2016  \n",
       "1342  recommendation 1 that the department of vetera...  2016  \n",
       "1343   the committee recommends that va  number 1. r...  2001  \n",
       "1344   the committee recommends that va  number 1. r...  2001  \n",
       "\n",
       "[1345 rows x 4 columns]"
      ]
     },
     "execution_count": 51,
     "metadata": {},
     "output_type": "execute_result"
    }
   ],
   "source": [
    "recommd_temp\n"
   ]
  },
  {
   "cell_type": "code",
   "execution_count": null,
   "metadata": {},
   "outputs": [],
   "source": []
  }
 ],
 "metadata": {
  "kernelspec": {
   "display_name": "env",
   "language": "python",
   "name": "env"
  },
  "language_info": {
   "codemirror_mode": {
    "name": "ipython",
    "version": 3
   },
   "file_extension": ".py",
   "mimetype": "text/x-python",
   "name": "python",
   "nbconvert_exporter": "python",
   "pygments_lexer": "ipython3",
   "version": "3.8.3"
  },
  "orig_nbformat": 4
 },
 "nbformat": 4,
 "nbformat_minor": 2
}

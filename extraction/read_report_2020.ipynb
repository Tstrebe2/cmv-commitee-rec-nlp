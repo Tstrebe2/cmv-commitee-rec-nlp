{
 "cells": [
  {
   "cell_type": "code",
   "execution_count": 1,
   "id": "abc638d3",
   "metadata": {},
   "outputs": [],
   "source": [
    "import PyPDF2 as pdf"
   ]
  },
  {
   "cell_type": "code",
   "execution_count": 2,
   "id": "206613bf",
   "metadata": {},
   "outputs": [
    {
     "data": {
      "text/plain": [
       "<_io.BufferedReader name='2020.pdf'>"
      ]
     },
     "execution_count": 2,
     "metadata": {},
     "output_type": "execute_result"
    }
   ],
   "source": [
    "# open the file in the folder\n",
    "file = open('2020.pdf','rb')\n",
    "file"
   ]
  },
  {
   "cell_type": "code",
   "execution_count": 3,
   "id": "a18a99c9",
   "metadata": {},
   "outputs": [
    {
     "data": {
      "text/plain": [
       "<PyPDF2._reader.PdfReader at 0x7fc61329ebb0>"
      ]
     },
     "execution_count": 3,
     "metadata": {},
     "output_type": "execute_result"
    }
   ],
   "source": [
    "# create a pdfreader object\n",
    "pdf_reader = pdf.PdfReader(file)\n",
    "pdf_reader"
   ]
  },
  {
   "cell_type": "code",
   "execution_count": 4,
   "id": "33dc9f83",
   "metadata": {},
   "outputs": [
    {
     "data": {
      "text/plain": [
       "False"
      ]
     },
     "execution_count": 4,
     "metadata": {},
     "output_type": "execute_result"
    }
   ],
   "source": [
    "# check if the file is encrypted\n",
    "pdf_reader.is_encrypted"
   ]
  },
  {
   "cell_type": "code",
   "execution_count": 5,
   "id": "cf5fc572",
   "metadata": {},
   "outputs": [
    {
     "data": {
      "text/plain": [
       "53"
      ]
     },
     "execution_count": 5,
     "metadata": {},
     "output_type": "execute_result"
    }
   ],
   "source": [
    "# get the total page numbers\n",
    "len(pdf_reader.pages)"
   ]
  },
  {
   "cell_type": "code",
   "execution_count": 6,
   "id": "6e6a2bfc",
   "metadata": {},
   "outputs": [
    {
     "data": {
      "text/plain": [
       "'2020 Report of the \\nDepartment of Veterans  Affairs\\nAdvisory Committee on Women Veterans\\nSeptember  2020'"
      ]
     },
     "execution_count": 6,
     "metadata": {},
     "output_type": "execute_result"
    }
   ],
   "source": [
    "# read page 1 (cover page)\n",
    "page1 = pdf_reader.pages[0]\n",
    "page1.extract_text()"
   ]
  },
  {
   "cell_type": "code",
   "execution_count": 7,
   "id": "a39ec6e9",
   "metadata": {},
   "outputs": [
    {
     "data": {
      "text/plain": [
       "'2020 Report of VA’s Advisory Committee on Women Veterans\\n2of 53Table of Contents\\nChair’s Letter  ................................ ................................ ................................ .................  3\\nPart I Executive Summary  ................................ ................................ ............................  6\\nPart II Recommendations, Rationales and VA Responses  ................................ ........  8\\nA. Education Benefits  ................................ ................................ ..........................  8\\nB. Women Veterans Coordinators (WVC):  ................................ ........................  12\\nC. Inclusionary Branding of VA Facilities:  ................................ ..........................  12\\nD. MISSION Act/Community Care/Comprehensive Care/Standards of Care:  ... 16\\nE. Substance Abuse and Pain Management in Wom en Veterans:  ...................  22\\nF. VA Partnership with State Women Veterans Coordinators:  ..........................  28\\nG. Cultural Transformation/Patient Satisfaction:  ................................ ................  29\\nPART III Appendices  ................................ ................................ ................................ ... 32\\nAppendix A Historical Perspective  ................................ ................................ .............  33\\nAppendix B VA Advisory Committee on Women Veterans Membership Profiles  ...... 36\\nAppendix C Summary of Site Visits for (2018 -2019)  ................................ .................  41\\nAppendix  D Briefings to the Advisory Committee on  Women Veterans (2018 -2019)  42\\nAppendix E 2019 Charter of the Advisory Committee on Women V eterans  ..............  49\\nAppendix F Center for Women Veterans Mission and Goals  ................................ ..... 51'"
      ]
     },
     "execution_count": 7,
     "metadata": {},
     "output_type": "execute_result"
    }
   ],
   "source": [
    "# read page 2 (table of content)\n",
    "page2 = pdf_reader.pages[1]\n",
    "page2.extract_text()"
   ]
  },
  {
   "cell_type": "code",
   "execution_count": 8,
   "id": "44b7bf7c",
   "metadata": {},
   "outputs": [
    {
     "data": {
      "text/plain": [
       "['2020 Report of VA’s Advisory Committee on Women Veterans',\n",
       " '2of 53Table of Contents',\n",
       " 'Chair’s Letter  ................................ ................................ ................................ .................  3',\n",
       " 'Part I Executive Summary  ................................ ................................ ............................  6',\n",
       " 'Part II Recommendations, Rationales and VA Responses  ................................ ........  8',\n",
       " 'A. Education Benefits  ................................ ................................ ..........................  8',\n",
       " 'B. Women Veterans Coordinators (WVC):  ................................ ........................  12',\n",
       " 'C. Inclusionary Branding of VA Facilities:  ................................ ..........................  12',\n",
       " 'D. MISSION Act/Community Care/Comprehensive Care/Standards of Care:  ... 16',\n",
       " 'E. Substance Abuse and Pain Management in Wom en Veterans:  ...................  22',\n",
       " 'F. VA Partnership with State Women Veterans Coordinators:  ..........................  28',\n",
       " 'G. Cultural Transformation/Patient Satisfaction:  ................................ ................  29',\n",
       " 'PART III Appendices  ................................ ................................ ................................ ... 32',\n",
       " 'Appendix A Historical Perspective  ................................ ................................ .............  33',\n",
       " 'Appendix B VA Advisory Committee on Women Veterans Membership Profiles  ...... 36',\n",
       " 'Appendix C Summary of Site Visits for (2018 -2019)  ................................ .................  41',\n",
       " 'Appendix  D Briefings to the Advisory Committee on  Women Veterans (2018 -2019)  42',\n",
       " 'Appendix E 2019 Charter of the Advisory Committee on Women V eterans  ..............  49',\n",
       " 'Appendix F Center for Women Veterans Mission and Goals  ................................ ..... 51']"
      ]
     },
     "execution_count": 8,
     "metadata": {},
     "output_type": "execute_result"
    }
   ],
   "source": [
    "# use a list to show the table of content\n",
    "#lines = page2.extract_text().replace('\\n', ' ').split('.')\n",
    "lines = page2.extract_text().splitlines()\n",
    "lines"
   ]
  },
  {
   "cell_type": "code",
   "execution_count": 9,
   "id": "85baded9",
   "metadata": {},
   "outputs": [
    {
     "data": {
      "text/plain": [
       "['2020 Report of VA’s Advisory Committee on Women Veterans',\n",
       " '2of 53Table of Contents',\n",
       " 'Chair’s Letter       3',\n",
       " 'Part I Executive Summary      6',\n",
       " 'Part II Recommendations, Rationales and VA Responses     8',\n",
       " 'A Education Benefits      8',\n",
       " 'B Women Veterans Coordinators (WVC):     12',\n",
       " 'C Inclusionary Branding of VA Facilities:     12',\n",
       " 'D MISSION Act/Community Care/Comprehensive Care/Standards of Care:   16',\n",
       " 'E Substance Abuse and Pain Management in Wom en Veterans:    22',\n",
       " 'F VA Partnership with State Women Veterans Coordinators:    28',\n",
       " 'G Cultural Transformation/Patient Satisfaction:     29',\n",
       " 'PART III Appendices      32',\n",
       " 'Appendix A Historical Perspective      33',\n",
       " 'Appendix B VA Advisory Committee on Women Veterans Membership Profiles   36',\n",
       " 'Appendix C Summary of Site Visits for (2018 -2019)     41',\n",
       " 'Appendix  D Briefings to the Advisory Committee on  Women Veterans (2018 -2019)  42',\n",
       " 'Appendix E 2019 Charter of the Advisory Committee on Women V eterans    49',\n",
       " 'Appendix F Center for Women Veterans Mission and Goals    51']"
      ]
     },
     "execution_count": 9,
     "metadata": {},
     "output_type": "execute_result"
    }
   ],
   "source": [
    "# remove the ...\n",
    "my_list_cleaned = [s.replace('.', '') for s in lines]\n",
    "my_list_cleaned"
   ]
  },
  {
   "cell_type": "code",
   "execution_count": 10,
   "id": "b56a6c18",
   "metadata": {},
   "outputs": [
    {
     "data": {
      "text/plain": [
       "['Chair’s Letter       3',\n",
       " 'Part I Executive Summary      6',\n",
       " 'Part II Recommendations, Rationales and VA Responses     8',\n",
       " 'A Education Benefits      8',\n",
       " 'B Women Veterans Coordinators (WVC):     12',\n",
       " 'C Inclusionary Branding of VA Facilities:     12',\n",
       " 'D MISSION Act/Community Care/Comprehensive Care/Standards of Care:   16',\n",
       " 'E Substance Abuse and Pain Management in Wom en Veterans:    22',\n",
       " 'F VA Partnership with State Women Veterans Coordinators:    28',\n",
       " 'G Cultural Transformation/Patient Satisfaction:     29',\n",
       " 'PART III Appendices      32',\n",
       " 'Appendix A Historical Perspective      33',\n",
       " 'Appendix B VA Advisory Committee on Women Veterans Membership Profiles   36',\n",
       " 'Appendix C Summary of Site Visits for (2018 -2019)     41',\n",
       " 'Appendix  D Briefings to the Advisory Committee on  Women Veterans (2018 -2019)  42',\n",
       " 'Appendix E 2019 Charter of the Advisory Committee on Women V eterans    49',\n",
       " 'Appendix F Center for Women Veterans Mission and Goals    51']"
      ]
     },
     "execution_count": 10,
     "metadata": {},
     "output_type": "execute_result"
    }
   ],
   "source": [
    "# remove the cover page which has no page number\n",
    "my_list_with_page_numbers = [s for s in my_list_cleaned if s[-1].isdigit()]\n",
    "my_list_with_page_numbers"
   ]
  },
  {
   "cell_type": "code",
   "execution_count": 11,
   "id": "c4d4eb74",
   "metadata": {},
   "outputs": [
    {
     "data": {
      "text/plain": [
       "[('Chair’s Letter', 3),\n",
       " ('Part I Executive Summary', 6),\n",
       " ('Part II Recommendations, Rationales and VA Responses', 8),\n",
       " ('A Education Benefits', 8),\n",
       " ('B Women Veterans Coordinators (WVC):', 12),\n",
       " ('C Inclusionary Branding of VA Facilities:', 12),\n",
       " ('D MISSION Act/Community Care/Comprehensive Care/Standards of Care:', 16),\n",
       " ('E Substance Abuse and Pain Management in Wom en Veterans:', 22),\n",
       " ('F VA Partnership with State Women Veterans Coordinators:', 28),\n",
       " ('G Cultural Transformation/Patient Satisfaction:', 29),\n",
       " ('PART III Appendices', 32),\n",
       " ('Appendix A Historical Perspective', 33),\n",
       " ('Appendix B VA Advisory Committee on Women Veterans Membership Profiles',\n",
       "  36),\n",
       " ('Appendix C Summary of Site Visits for (2018 -2019)', 41),\n",
       " ('Appendix  D Briefings to the Advisory Committee on  Women Veterans (2018 -2019)',\n",
       "  42),\n",
       " ('Appendix E 2019 Charter of the Advisory Committee on Women V eterans', 49),\n",
       " ('Appendix F Center for Women Veterans Mission and Goals', 51)]"
      ]
     },
     "execution_count": 11,
     "metadata": {},
     "output_type": "execute_result"
    }
   ],
   "source": [
    "# split to page number from the content\n",
    "#my_list_split = [(s.rstrip('0123456789'), int(s[-1])) for s in my_list_with_page_numbers]\n",
    "import re\n",
    "#my_list_split = [(re.sub('\\.{2,}', '', s).rstrip(), int(re.findall('\\d+', s)[-1])) for s in my_list_with_page_numbers]\n",
    "#my_list_split = [(s.rstrip(), n) for s, n in my_list_split]\n",
    "my_list_split = [(re.sub('\\.{2,}', '', s).rstrip(), int(re.findall('\\d+', s)[-1])) for s in my_list_with_page_numbers]\n",
    "my_list_split = [((re.sub('\\d+$', '', s)).rstrip(), n) for s, n in my_list_split]\n",
    "my_list_split"
   ]
  },
  {
   "cell_type": "code",
   "execution_count": 12,
   "id": "5ebabfd7",
   "metadata": {
    "scrolled": false
   },
   "outputs": [
    {
     "data": {
      "text/html": [
       "<div>\n",
       "<style scoped>\n",
       "    .dataframe tbody tr th:only-of-type {\n",
       "        vertical-align: middle;\n",
       "    }\n",
       "\n",
       "    .dataframe tbody tr th {\n",
       "        vertical-align: top;\n",
       "    }\n",
       "\n",
       "    .dataframe thead th {\n",
       "        text-align: right;\n",
       "    }\n",
       "</style>\n",
       "<table border=\"1\" class=\"dataframe\">\n",
       "  <thead>\n",
       "    <tr style=\"text-align: right;\">\n",
       "      <th></th>\n",
       "      <th>content</th>\n",
       "      <th>page_number</th>\n",
       "    </tr>\n",
       "  </thead>\n",
       "  <tbody>\n",
       "    <tr>\n",
       "      <th>0</th>\n",
       "      <td>Chair’s Letter</td>\n",
       "      <td>3</td>\n",
       "    </tr>\n",
       "    <tr>\n",
       "      <th>1</th>\n",
       "      <td>Part I Executive Summary</td>\n",
       "      <td>6</td>\n",
       "    </tr>\n",
       "    <tr>\n",
       "      <th>2</th>\n",
       "      <td>Part II Recommendations, Rationales and VA Res...</td>\n",
       "      <td>8</td>\n",
       "    </tr>\n",
       "    <tr>\n",
       "      <th>3</th>\n",
       "      <td>A Education Benefits</td>\n",
       "      <td>8</td>\n",
       "    </tr>\n",
       "    <tr>\n",
       "      <th>4</th>\n",
       "      <td>B Women Veterans Coordinators (WVC):</td>\n",
       "      <td>12</td>\n",
       "    </tr>\n",
       "    <tr>\n",
       "      <th>5</th>\n",
       "      <td>C Inclusionary Branding of VA Facilities:</td>\n",
       "      <td>12</td>\n",
       "    </tr>\n",
       "    <tr>\n",
       "      <th>6</th>\n",
       "      <td>D MISSION Act/Community Care/Comprehensive Car...</td>\n",
       "      <td>16</td>\n",
       "    </tr>\n",
       "    <tr>\n",
       "      <th>7</th>\n",
       "      <td>E Substance Abuse and Pain Management in Wom e...</td>\n",
       "      <td>22</td>\n",
       "    </tr>\n",
       "    <tr>\n",
       "      <th>8</th>\n",
       "      <td>F VA Partnership with State Women Veterans Coo...</td>\n",
       "      <td>28</td>\n",
       "    </tr>\n",
       "    <tr>\n",
       "      <th>9</th>\n",
       "      <td>G Cultural Transformation/Patient Satisfaction:</td>\n",
       "      <td>29</td>\n",
       "    </tr>\n",
       "    <tr>\n",
       "      <th>10</th>\n",
       "      <td>PART III Appendices</td>\n",
       "      <td>32</td>\n",
       "    </tr>\n",
       "    <tr>\n",
       "      <th>11</th>\n",
       "      <td>Appendix A Historical Perspective</td>\n",
       "      <td>33</td>\n",
       "    </tr>\n",
       "    <tr>\n",
       "      <th>12</th>\n",
       "      <td>Appendix B VA Advisory Committee on Women Vete...</td>\n",
       "      <td>36</td>\n",
       "    </tr>\n",
       "    <tr>\n",
       "      <th>13</th>\n",
       "      <td>Appendix C Summary of Site Visits for (2018 -2...</td>\n",
       "      <td>41</td>\n",
       "    </tr>\n",
       "    <tr>\n",
       "      <th>14</th>\n",
       "      <td>Appendix  D Briefings to the Advisory Committe...</td>\n",
       "      <td>42</td>\n",
       "    </tr>\n",
       "    <tr>\n",
       "      <th>15</th>\n",
       "      <td>Appendix E 2019 Charter of the Advisory Commit...</td>\n",
       "      <td>49</td>\n",
       "    </tr>\n",
       "    <tr>\n",
       "      <th>16</th>\n",
       "      <td>Appendix F Center for Women Veterans Mission a...</td>\n",
       "      <td>51</td>\n",
       "    </tr>\n",
       "  </tbody>\n",
       "</table>\n",
       "</div>"
      ],
      "text/plain": [
       "                                              content  page_number\n",
       "0                                      Chair’s Letter            3\n",
       "1                            Part I Executive Summary            6\n",
       "2   Part II Recommendations, Rationales and VA Res...            8\n",
       "3                                A Education Benefits            8\n",
       "4                B Women Veterans Coordinators (WVC):           12\n",
       "5           C Inclusionary Branding of VA Facilities:           12\n",
       "6   D MISSION Act/Community Care/Comprehensive Car...           16\n",
       "7   E Substance Abuse and Pain Management in Wom e...           22\n",
       "8   F VA Partnership with State Women Veterans Coo...           28\n",
       "9     G Cultural Transformation/Patient Satisfaction:           29\n",
       "10                                PART III Appendices           32\n",
       "11                  Appendix A Historical Perspective           33\n",
       "12  Appendix B VA Advisory Committee on Women Vete...           36\n",
       "13  Appendix C Summary of Site Visits for (2018 -2...           41\n",
       "14  Appendix  D Briefings to the Advisory Committe...           42\n",
       "15  Appendix E 2019 Charter of the Advisory Commit...           49\n",
       "16  Appendix F Center for Women Veterans Mission a...           51"
      ]
     },
     "execution_count": 12,
     "metadata": {},
     "output_type": "execute_result"
    }
   ],
   "source": [
    "import pandas as pd\n",
    "df = pd.DataFrame(my_list_split, columns=['content', 'page_number'])\n",
    "df"
   ]
  },
  {
   "cell_type": "code",
   "execution_count": 13,
   "id": "8167f73d",
   "metadata": {
    "scrolled": false
   },
   "outputs": [
    {
     "data": {
      "text/plain": [
       "'2020 Report of VA’s Advisory Committee on Women Veterans\\n6of 53Part I  \\nExecutive Summary\\nThe Department of Veterans  Affairs (VA) Advisory Committee on Women Veterans ’ (the \\nCommittee) 2020 report provides recommendations and supporting rationales that \\naddress the following issues:\\n·Education Benefits ; \\n·Women Veterans  Coordinators ; \\n·Inclusionary Branding of VA Facilities ; \\n·VA Maintaining Internal Systems and Strengthening Integrated Outside Networks \\n(MISSION)  Act/Community Care/Comprehensive Care/Standards of Care ;\\n·Substance Abuse and Pain Management in Women Veterans ; \\n·VA Partnership with State Women Veterans  Coordinators ; and  \\n·Cultural Transformation/Patient Satisfaction .\\nThe report of the Committee is submitted biennially. The Committee members are \\nappointed by the Secretary of Veterans  Affairs (Secretary) for a 2 -year or 3 -year term. \\nMembers represent a variety of military career fields and possess extensive military \\nexpe rience, to include service in the Persian Gulf War and Operation Enduring \\nFreedom/Operation Iraqi Freedom/Operation New Dawn (OEF/OIF/OND).\\nA total of ten recommendations , with supporting rationale s, are provided in this report. \\nRecommendations stem from data and information gathered in exchange with VA \\nofficials, women Veterans , researchers, Veterans  Service Organizations  (VSO)  and site \\nvisits to Veterans  Health Administration (VHA), National Cemetery Administration (NCA ) \\nand Veterans  Benefits Administrat ion (VBA) facilities. The recommendations and \\nsupporting rationales provide insightful advice for VA to strategica lly and efficiently \\naddress the evolving  needs of women Veterans . \\nHighlights\\n·Women Veterans  need academic break pay to provide substantial financial relief \\nbetween school sessions .\\n·VA should examine how changes in education benefits are impacting women \\nVeterans . \\n·Women Veterans  coordinators need measurable standards.\\n·Naming VA facilities after n otable military women would make VA more \\nwelcoming to women Veterans . \\n·Having more designated women’s health providers (DWHP) would improve \\nwomen Veterans ’ access to care.'"
      ]
     },
     "execution_count": 13,
     "metadata": {},
     "output_type": "execute_result"
    }
   ],
   "source": [
    "#read page 6\n",
    "page6 = pdf_reader.pages[5]\n",
    "page6.extract_text()"
   ]
  },
  {
   "cell_type": "code",
   "execution_count": 14,
   "id": "785d01f9",
   "metadata": {},
   "outputs": [
    {
     "data": {
      "text/plain": [
       "['The Department of Veterans  Affairs (VA) Advisory Committee on Women Veterans ’ (the ',\n",
       " 'Committee) 2020 report provides recommendations and supporting rationales that ',\n",
       " 'address the following issues:',\n",
       " '·Education Benefits ; ',\n",
       " '·Women Veterans  Coordinators ; ',\n",
       " '·Inclusionary Branding of VA Facilities ; ',\n",
       " '·VA Maintaining Internal Systems and Strengthening Integrated Outside Networks ',\n",
       " '(MISSION)  Act/Community Care/Comprehensive Care/Standards of Care ;',\n",
       " '·Substance Abuse and Pain Management in Women Veterans ; ',\n",
       " '·VA Partnership with State Women Veterans  Coordinators ; and  ',\n",
       " '·Cultural Transformation/Patient Satisfaction .',\n",
       " 'The report of the Committee is submitted biennially. The Committee members are ',\n",
       " 'appointed by the Secretary of Veterans  Affairs (Secretary) for a 2 -year or 3 -year term. ',\n",
       " 'Members represent a variety of military career fields and possess extensive military ',\n",
       " 'expe rience, to include service in the Persian Gulf War and Operation Enduring ',\n",
       " 'Freedom/Operation Iraqi Freedom/Operation New Dawn (OEF/OIF/OND).',\n",
       " 'A total of ten recommendations , with supporting rationale s, are provided in this report. ',\n",
       " 'Recommendations stem from data and information gathered in exchange with VA ',\n",
       " 'officials, women Veterans , researchers, Veterans  Service Organizations  (VSO)  and site ',\n",
       " 'visits to Veterans  Health Administration (VHA), National Cemetery Administration (NCA ) ',\n",
       " 'and Veterans  Benefits Administrat ion (VBA) facilities. The recommendations and ',\n",
       " 'supporting rationales provide insightful advice for VA to strategica lly and efficiently ',\n",
       " 'address the evolving  needs of women Veterans . ',\n",
       " 'Highlights',\n",
       " '·Women Veterans  need academic break pay to provide substantial financial relief ',\n",
       " 'between school sessions .',\n",
       " '·VA should examine how changes in education benefits are impacting women ',\n",
       " 'Veterans . ',\n",
       " '·Women Veterans  coordinators need measurable standards.',\n",
       " '·Naming VA facilities after n otable military women would make VA more ',\n",
       " 'welcoming to women Veterans . ',\n",
       " '·Having more designated women’s health providers (DWHP) would improve ',\n",
       " 'women Veterans ’ access to care.']"
      ]
     },
     "execution_count": 14,
     "metadata": {},
     "output_type": "execute_result"
    }
   ],
   "source": [
    "page6_list = page6.extract_text().splitlines()[3:]\n",
    "page6_list"
   ]
  },
  {
   "cell_type": "code",
   "execution_count": 15,
   "id": "7dab7deb",
   "metadata": {},
   "outputs": [
    {
     "data": {
      "text/plain": [
       "'2020 Report of VA’s Advisory Committee on Women Veterans\\n7of 53·VA should establish a plan for projecting future demand and capacity \\nrequirements th at would enable VA to meet the anticipated needs of women \\nVeterans  in VA facilities.\\n·Establishing a national strategic plan for breast imaging services would be \\nbeneficial in projecting future needs.\\n·VA should examine treatment provided for co -occurring ch ronic pain and \\nsubstance abuse disorder in women Veterans .\\n·Collaborative partnerships between VHA’s women Veterans  program managers, \\nVBA’s women Veterans  coordinators and states’ women Veterans  coordinators \\nenhances women Veterans  access to benefits and se rvices.\\n·VHA should conduct an assessment of its “End Harassment” campaign.'"
      ]
     },
     "execution_count": 15,
     "metadata": {},
     "output_type": "execute_result"
    }
   ],
   "source": [
    "#read page 7\n",
    "page7 = pdf_reader.pages[6]\n",
    "page7.extract_text()"
   ]
  },
  {
   "cell_type": "code",
   "execution_count": 16,
   "id": "68f06c9b",
   "metadata": {},
   "outputs": [
    {
     "data": {
      "text/plain": [
       "['7of 53·VA should establish a plan for projecting future demand and capacity ',\n",
       " 'requirements th at would enable VA to meet the anticipated needs of women ',\n",
       " 'Veterans  in VA facilities.',\n",
       " '·Establishing a national strategic plan for breast imaging services would be ',\n",
       " 'beneficial in projecting future needs.',\n",
       " '·VA should examine treatment provided for co -occurring ch ronic pain and ',\n",
       " 'substance abuse disorder in women Veterans .',\n",
       " '·Collaborative partnerships between VHA’s women Veterans  program managers, ',\n",
       " 'VBA’s women Veterans  coordinators and states’ women Veterans  coordinators ',\n",
       " 'enhances women Veterans  access to benefits and se rvices.',\n",
       " '·VHA should conduct an assessment of its “End Harassment” campaign.']"
      ]
     },
     "execution_count": 16,
     "metadata": {},
     "output_type": "execute_result"
    }
   ],
   "source": [
    "page7_list = page7.extract_text().splitlines()[1:]\n",
    "page7_list"
   ]
  },
  {
   "cell_type": "code",
   "execution_count": 17,
   "id": "54f6f723",
   "metadata": {},
   "outputs": [
    {
     "data": {
      "text/plain": [
       "['The Department of Veterans  Affairs (VA) Advisory Committee on Women Veterans ’ (the ',\n",
       " 'Committee) 2020 report provides recommendations and supporting rationales that ',\n",
       " 'address the following issues:',\n",
       " '·Education Benefits ; ',\n",
       " '·Women Veterans  Coordinators ; ',\n",
       " '·Inclusionary Branding of VA Facilities ; ',\n",
       " '·VA Maintaining Internal Systems and Strengthening Integrated Outside Networks ',\n",
       " '(MISSION)  Act/Community Care/Comprehensive Care/Standards of Care ;',\n",
       " '·Substance Abuse and Pain Management in Women Veterans ; ',\n",
       " '·VA Partnership with State Women Veterans  Coordinators ; and  ',\n",
       " '·Cultural Transformation/Patient Satisfaction .',\n",
       " 'The report of the Committee is submitted biennially. The Committee members are ',\n",
       " 'appointed by the Secretary of Veterans  Affairs (Secretary) for a 2 -year or 3 -year term. ',\n",
       " 'Members represent a variety of military career fields and possess extensive military ',\n",
       " 'expe rience, to include service in the Persian Gulf War and Operation Enduring ',\n",
       " 'Freedom/Operation Iraqi Freedom/Operation New Dawn (OEF/OIF/OND).',\n",
       " 'A total of ten recommendations , with supporting rationale s, are provided in this report. ',\n",
       " 'Recommendations stem from data and information gathered in exchange with VA ',\n",
       " 'officials, women Veterans , researchers, Veterans  Service Organizations  (VSO)  and site ',\n",
       " 'visits to Veterans  Health Administration (VHA), National Cemetery Administration (NCA ) ',\n",
       " 'and Veterans  Benefits Administrat ion (VBA) facilities. The recommendations and ',\n",
       " 'supporting rationales provide insightful advice for VA to strategica lly and efficiently ',\n",
       " 'address the evolving  needs of women Veterans . ',\n",
       " 'Highlights',\n",
       " '·Women Veterans  need academic break pay to provide substantial financial relief ',\n",
       " 'between school sessions .',\n",
       " '·VA should examine how changes in education benefits are impacting women ',\n",
       " 'Veterans . ',\n",
       " '·Women Veterans  coordinators need measurable standards.',\n",
       " '·Naming VA facilities after n otable military women would make VA more ',\n",
       " 'welcoming to women Veterans . ',\n",
       " '·Having more designated women’s health providers (DWHP) would improve ',\n",
       " 'women Veterans ’ access to care.',\n",
       " '7of 53·VA should establish a plan for projecting future demand and capacity ',\n",
       " 'requirements th at would enable VA to meet the anticipated needs of women ',\n",
       " 'Veterans  in VA facilities.',\n",
       " '·Establishing a national strategic plan for breast imaging services would be ',\n",
       " 'beneficial in projecting future needs.',\n",
       " '·VA should examine treatment provided for co -occurring ch ronic pain and ',\n",
       " 'substance abuse disorder in women Veterans .',\n",
       " '·Collaborative partnerships between VHA’s women Veterans  program managers, ',\n",
       " 'VBA’s women Veterans  coordinators and states’ women Veterans  coordinators ',\n",
       " 'enhances women Veterans  access to benefits and se rvices.',\n",
       " '·VHA should conduct an assessment of its “End Harassment” campaign.']"
      ]
     },
     "execution_count": 17,
     "metadata": {},
     "output_type": "execute_result"
    }
   ],
   "source": [
    "# Add page 6 and page 7 in the executive summary\n",
    "executive_summary = []\n",
    "executive_summary.extend(page6_list)\n",
    "executive_summary.extend(page7_list)\n",
    "executive_summary"
   ]
  },
  {
   "cell_type": "code",
   "execution_count": 18,
   "id": "5982e373",
   "metadata": {},
   "outputs": [
    {
     "data": {
      "text/plain": [
       "['The Department of Veterans  Affairs (VA) Advisory Committee on Women Veterans ’ (the ',\n",
       " 'Committee) 2020 report provides recommendations and supporting rationales that ',\n",
       " 'address the following issues:',\n",
       " 'Education Benefits ; ',\n",
       " 'Women Veterans  Coordinators ; ',\n",
       " 'Inclusionary Branding of VA Facilities ; ',\n",
       " 'VA Maintaining Internal Systems and Strengthening Integrated Outside Networks ',\n",
       " '(MISSION)  Act/Community Care/Comprehensive Care/Standards of Care ;',\n",
       " 'Substance Abuse and Pain Management in Women Veterans ; ',\n",
       " 'VA Partnership with State Women Veterans  Coordinators ; and  ',\n",
       " 'Cultural Transformation/Patient Satisfaction .',\n",
       " 'The report of the Committee is submitted biennially. The Committee members are ',\n",
       " 'appointed by the Secretary of Veterans  Affairs (Secretary) for a 2 -year or 3 -year term. ',\n",
       " 'Members represent a variety of military career fields and possess extensive military ',\n",
       " 'expe rience, to include service in the Persian Gulf War and Operation Enduring ',\n",
       " 'Freedom/Operation Iraqi Freedom/Operation New Dawn (OEF/OIF/OND).',\n",
       " 'A total of ten recommendations , with supporting rationale s, are provided in this report. ',\n",
       " 'Recommendations stem from data and information gathered in exchange with VA ',\n",
       " 'officials, women Veterans , researchers, Veterans  Service Organizations  (VSO)  and site ',\n",
       " 'visits to Veterans  Health Administration (VHA), National Cemetery Administration (NCA ) ',\n",
       " 'and Veterans  Benefits Administrat ion (VBA) facilities. The recommendations and ',\n",
       " 'supporting rationales provide insightful advice for VA to strategica lly and efficiently ',\n",
       " 'address the evolving  needs of women Veterans . ',\n",
       " 'Highlights',\n",
       " 'Women Veterans  need academic break pay to provide substantial financial relief ',\n",
       " 'between school sessions .',\n",
       " 'VA should examine how changes in education benefits are impacting women ',\n",
       " 'Veterans . ',\n",
       " 'Women Veterans  coordinators need measurable standards.',\n",
       " 'Naming VA facilities after n otable military women would make VA more ',\n",
       " 'welcoming to women Veterans . ',\n",
       " 'Having more designated women’s health providers (DWHP) would improve ',\n",
       " 'women Veterans ’ access to care.',\n",
       " '7of 53VA should establish a plan for projecting future demand and capacity ',\n",
       " 'requirements th at would enable VA to meet the anticipated needs of women ',\n",
       " 'Veterans  in VA facilities.',\n",
       " 'Establishing a national strategic plan for breast imaging services would be ',\n",
       " 'beneficial in projecting future needs.',\n",
       " 'VA should examine treatment provided for co -occurring ch ronic pain and ',\n",
       " 'substance abuse disorder in women Veterans .',\n",
       " 'Collaborative partnerships between VHA’s women Veterans  program managers, ',\n",
       " 'VBA’s women Veterans  coordinators and states’ women Veterans  coordinators ',\n",
       " 'enhances women Veterans  access to benefits and se rvices.',\n",
       " 'VHA should conduct an assessment of its “End Harassment” campaign.']"
      ]
     },
     "execution_count": 18,
     "metadata": {},
     "output_type": "execute_result"
    }
   ],
   "source": [
    "# remove the header from the summary\n",
    "executive_summary = [item.replace('·', '') for item in executive_summary] # remove the bullet points \"·\"\n",
    "executive_summary"
   ]
  },
  {
   "cell_type": "code",
   "execution_count": 19,
   "id": "864062e1",
   "metadata": {},
   "outputs": [
    {
     "name": "stdout",
     "output_type": "stream",
     "text": [
      "['The Department of Veterans  Affairs (VA) Advisory Committee on Women Veterans ’ (the', 'Committee) 2020 report provides recommendations and supporting rationales that address the following issues:', 'Education Benefits ;', 'Women Veterans  Coordinators ;', 'Inclusionary Branding of VA Facilities ;', 'VA Maintaining Internal Systems and Strengthening Integrated Outside Networks (MISSION)  Act/Community Care/Comprehensive Care/Standards of Care ;', 'Substance Abuse and Pain Management in Women Veterans ;', 'VA Partnership with State Women Veterans  Coordinators ; and', 'Cultural Transformation/Patient Satisfaction .', 'The report of the Committee is submitted biennially. The Committee members are appointed by the Secretary of Veterans  Affairs (Secretary) for a 2 -year or 3 -year term.', 'Members represent a variety of military career fields and possess extensive military expe rience, to include service in the Persian Gulf War and Operation Enduring', 'Freedom/Operation Iraqi Freedom/Operation New Dawn (OEF/OIF/OND).', 'A total of ten recommendations , with supporting rationale s, are provided in this report.', 'Recommendations stem from data and information gathered in exchange with VA officials, women Veterans , researchers, Veterans  Service Organizations  (VSO)  and site visits to Veterans  Health Administration (VHA), National Cemetery Administration (NCA ) and Veterans  Benefits Administrat ion (VBA) facilities. The recommendations and supporting rationales provide insightful advice for VA to strategica lly and efficiently address the evolving  needs of women Veterans .', 'Highlights', 'Women Veterans  need academic break pay to provide substantial financial relief between school sessions .', 'VA should examine how changes in education benefits are impacting women', 'Veterans .', 'Women Veterans  coordinators need measurable standards.', 'Naming VA facilities after n otable military women would make VA more welcoming to women Veterans .', 'Having more designated women’s health providers (DWHP) would improve women Veterans ’ access to care.', '7of 53VA should establish a plan for projecting future demand and capacity requirements th at would enable VA to meet the anticipated needs of women', 'Veterans  in VA facilities.', 'Establishing a national strategic plan for breast imaging services would be beneficial in projecting future needs.', 'VA should examine treatment provided for co -occurring ch ronic pain and substance abuse disorder in women Veterans .', 'Collaborative partnerships between VHA’s women Veterans  program managers,', 'VBA’s women Veterans  coordinators and states’ women Veterans  coordinators enhances women Veterans  access to benefits and se rvices.', 'VHA should conduct an assessment of its “End Harassment” campaign.']\n"
     ]
    }
   ],
   "source": [
    "paragraphs = []\n",
    "pdf_lines = executive_summary\n",
    "current_paragraph = [pdf_lines[0].strip()]\n",
    "\n",
    "for line in pdf_lines[1:]:\n",
    "    if len(line) > 0 and (line[0].isupper() or line[0].isdigit()):\n",
    "        # New paragraph\n",
    "        paragraphs.append(' '.join(current_paragraph))\n",
    "        current_paragraph = [line.strip()]\n",
    "    else:\n",
    "        # Continue current paragraph\n",
    "        current_paragraph[-1] += ' ' + line.strip()\n",
    "\n",
    "# Add the last paragraph\n",
    "paragraphs.append(' '.join(current_paragraph))\n",
    "\n",
    "print(paragraphs)"
   ]
  },
  {
   "cell_type": "code",
   "execution_count": 20,
   "id": "649924f4",
   "metadata": {},
   "outputs": [
    {
     "data": {
      "text/plain": [
       "28"
      ]
     },
     "execution_count": 20,
     "metadata": {},
     "output_type": "execute_result"
    }
   ],
   "source": [
    "len(paragraphs)"
   ]
  },
  {
   "cell_type": "code",
   "execution_count": 21,
   "id": "c2cf4ed9",
   "metadata": {},
   "outputs": [
    {
     "data": {
      "text/plain": [
       "'The Department of Veterans  Affairs (VA) Advisory Committee on Women Veterans ’ (theCommittee) 2020 report provides recommendations and supporting rationales that address the following issues:Education Benefits ;Women Veterans  Coordinators ;Inclusionary Branding of VA Facilities ;VA Maintaining Internal Systems and Strengthening Integrated Outside Networks (MISSION)  Act/Community Care/Comprehensive Care/Standards of Care ;Substance Abuse and Pain Management in Women Veterans ;VA Partnership with State Women Veterans  Coordinators ; andCultural Transformation/Patient Satisfaction .The report of the Committee is submitted biennially. The Committee members are appointed by the Secretary of Veterans  Affairs (Secretary) for a 2 -year or 3 -year term.Members represent a variety of military career fields and possess extensive military expe rience, to include service in the Persian Gulf War and Operation EnduringFreedom/Operation Iraqi Freedom/Operation New Dawn (OEF/OIF/OND).A total of ten recommendations , with supporting rationale s, are provided in this report.Recommendations stem from data and information gathered in exchange with VA officials, women Veterans , researchers, Veterans  Service Organizations  (VSO)  and site visits to Veterans  Health Administration (VHA), National Cemetery Administration (NCA ) and Veterans  Benefits Administrat ion (VBA) facilities. The recommendations and supporting rationales provide insightful advice for VA to strategica lly and efficiently address the evolving  needs of women Veterans .HighlightsWomen Veterans  need academic break pay to provide substantial financial relief between school sessions .VA should examine how changes in education benefits are impacting womenVeterans .Women Veterans  coordinators need measurable standards.Naming VA facilities after n otable military women would make VA more welcoming to women Veterans .Having more designated women’s health providers (DWHP) would improve women Veterans ’ access to care.7of 53VA should establish a plan for projecting future demand and capacity requirements th at would enable VA to meet the anticipated needs of womenVeterans  in VA facilities.Establishing a national strategic plan for breast imaging services would be beneficial in projecting future needs.VA should examine treatment provided for co -occurring ch ronic pain and substance abuse disorder in women Veterans .Collaborative partnerships between VHA’s women Veterans  program managers,VBA’s women Veterans  coordinators and states’ women Veterans  coordinators enhances women Veterans  access to benefits and se rvices.VHA should conduct an assessment of its “End Harassment” campaign.'"
      ]
     },
     "execution_count": 21,
     "metadata": {},
     "output_type": "execute_result"
    }
   ],
   "source": [
    "combined_string = ''.join(paragraphs)\n",
    "combined_string"
   ]
  },
  {
   "cell_type": "code",
   "execution_count": 22,
   "id": "3f98cc77",
   "metadata": {},
   "outputs": [
    {
     "data": {
      "text/plain": [
       "['The Department of Veterans  Affairs (VA) Advisory Committee on Women Veterans ’ (theCommittee) 2020 report provides recommendations and supporting rationales that address the following issues:Education Benefits ;Women Veterans  Coordinators ;Inclusionary Branding of VA Facilities ;VA Maintaining Internal Systems and Strengthening Integrated Outside Networks (MISSION)  Act/Community Care/Comprehensive Care/Standards of Care ;Substance Abuse and Pain Management in Women Veterans ;VA Partnership with State Women Veterans  Coordinators ; andCultural Transformation/Patient Satisfaction .The report of the Committee is submitted biennially. The Committee members are appointed by the Secretary of Veterans  Affairs (Secretary) for a 2 -year or 3 -year term.Members represent a variety of military career fields and possess extensive military expe rience, to include service in the Persian Gulf War and Operation EnduringFreedom/Operation Iraqi Freedom/Operation New Dawn (OEF/OIF/OND).A total of ten recommendations , with supporting rationale s, are provided in this report.Recommendations stem from data and information gathered in exchange with VA officials, women Veterans , researchers, Veterans  Service Organizations  (VSO)  and site visits to Veterans  Health Administration (VHA), National Cemetery Administration (NCA ) and Veterans  Benefits Administrat ion (VBA) facilities. The recommendations and supporting rationales provide insightful advice for VA to strategica lly and efficiently address the evolving  needs of women Veterans .',\n",
       " 'Women Veterans  need academic break pay to provide substantial financial relief between school sessions .VA should examine how changes in education benefits are impacting womenVeterans .Women Veterans  coordinators need measurable standards.Naming VA facilities after n otable military women would make VA more welcoming to women Veterans .Having more designated women’s health providers (DWHP) would improve women Veterans ’ access to care.7of 53VA should establish a plan for projecting future demand and capacity requirements th at would enable VA to meet the anticipated needs of womenVeterans  in VA facilities.Establishing a national strategic plan for breast imaging services would be beneficial in projecting future needs.VA should examine treatment provided for co -occurring ch ronic pain and substance abuse disorder in women Veterans .Collaborative partnerships between VHA’s women Veterans  program managers,VBA’s women Veterans  coordinators and states’ women Veterans  coordinators enhances women Veterans  access to benefits and se rvices.VHA should conduct an assessment of its “End Harassment” campaign.']"
      ]
     },
     "execution_count": 22,
     "metadata": {},
     "output_type": "execute_result"
    }
   ],
   "source": [
    "combined_string = combined_string.split('Highlights')\n",
    "combined_string"
   ]
  },
  {
   "cell_type": "code",
   "execution_count": 23,
   "id": "b0883807",
   "metadata": {},
   "outputs": [
    {
     "data": {
      "text/html": [
       "<div>\n",
       "<style scoped>\n",
       "    .dataframe tbody tr th:only-of-type {\n",
       "        vertical-align: middle;\n",
       "    }\n",
       "\n",
       "    .dataframe tbody tr th {\n",
       "        vertical-align: top;\n",
       "    }\n",
       "\n",
       "    .dataframe thead th {\n",
       "        text-align: right;\n",
       "    }\n",
       "</style>\n",
       "<table border=\"1\" class=\"dataframe\">\n",
       "  <thead>\n",
       "    <tr style=\"text-align: right;\">\n",
       "      <th></th>\n",
       "      <th>executive_summary</th>\n",
       "      <th>highlights</th>\n",
       "    </tr>\n",
       "  </thead>\n",
       "  <tbody>\n",
       "    <tr>\n",
       "      <th>0</th>\n",
       "      <td>The Department of Veterans  Affairs (VA) Advisory Committee on Women Veterans ’ (theCommittee) 2020 report provides recommendations and supporting rationales that address the following issues:Education Benefits ;Women Veterans  Coordinators ;Inclusionary Branding of VA Facilities ;VA Maintaining Internal Systems and Strengthening Integrated Outside Networks (MISSION)  Act/Community Care/Comprehensive Care/Standards of Care ;Substance Abuse and Pain Management in Women Veterans ;VA Partnership with State Women Veterans  Coordinators ; andCultural Transformation/Patient Satisfaction .The report of the Committee is submitted biennially. The Committee members are appointed by the Secretary of Veterans  Affairs (Secretary) for a 2 -year or 3 -year term.Members represent a variety of military career fields and possess extensive military expe rience, to include service in the Persian Gulf War and Operation EnduringFreedom/Operation Iraqi Freedom/Operation New Dawn (OEF/OIF/OND).A total of ten recommendations , with supporting rationale s, are provided in this report.Recommendations stem from data and information gathered in exchange with VA officials, women Veterans , researchers, Veterans  Service Organizations  (VSO)  and site visits to Veterans  Health Administration (VHA), National Cemetery Administration (NCA ) and Veterans  Benefits Administrat ion (VBA) facilities. The recommendations and supporting rationales provide insightful advice for VA to strategica lly and efficiently address the evolving  needs of women Veterans .</td>\n",
       "      <td>Women Veterans  need academic break pay to provide substantial financial relief between school sessions .VA should examine how changes in education benefits are impacting womenVeterans .Women Veterans  coordinators need measurable standards.Naming VA facilities after n otable military women would make VA more welcoming to women Veterans .Having more designated women’s health providers (DWHP) would improve women Veterans ’ access to care.7of 53VA should establish a plan for projecting future demand and capacity requirements th at would enable VA to meet the anticipated needs of womenVeterans  in VA facilities.Establishing a national strategic plan for breast imaging services would be beneficial in projecting future needs.VA should examine treatment provided for co -occurring ch ronic pain and substance abuse disorder in women Veterans .Collaborative partnerships between VHA’s women Veterans  program managers,VBA’s women Veterans  coordinators and states’ women Veterans  coordinators enhances women Veterans  access to benefits and se rvices.VHA should conduct an assessment of its “End Harassment” campaign.</td>\n",
       "    </tr>\n",
       "  </tbody>\n",
       "</table>\n",
       "</div>"
      ],
      "text/plain": [
       "                                                                                                                                                                                                                                                                                                                                                                                                                                                                                                                                                                                                                                                                                                                                                                                                                                                                                                                                                                                                                                                                                                                                                                                                                                                                                                                                                                                                                                                                                                                                                                                              executive_summary  \\\n",
       "0  The Department of Veterans  Affairs (VA) Advisory Committee on Women Veterans ’ (theCommittee) 2020 report provides recommendations and supporting rationales that address the following issues:Education Benefits ;Women Veterans  Coordinators ;Inclusionary Branding of VA Facilities ;VA Maintaining Internal Systems and Strengthening Integrated Outside Networks (MISSION)  Act/Community Care/Comprehensive Care/Standards of Care ;Substance Abuse and Pain Management in Women Veterans ;VA Partnership with State Women Veterans  Coordinators ; andCultural Transformation/Patient Satisfaction .The report of the Committee is submitted biennially. The Committee members are appointed by the Secretary of Veterans  Affairs (Secretary) for a 2 -year or 3 -year term.Members represent a variety of military career fields and possess extensive military expe rience, to include service in the Persian Gulf War and Operation EnduringFreedom/Operation Iraqi Freedom/Operation New Dawn (OEF/OIF/OND).A total of ten recommendations , with supporting rationale s, are provided in this report.Recommendations stem from data and information gathered in exchange with VA officials, women Veterans , researchers, Veterans  Service Organizations  (VSO)  and site visits to Veterans  Health Administration (VHA), National Cemetery Administration (NCA ) and Veterans  Benefits Administrat ion (VBA) facilities. The recommendations and supporting rationales provide insightful advice for VA to strategica lly and efficiently address the evolving  needs of women Veterans .   \n",
       "\n",
       "                                                                                                                                                                                                                                                                                                                                                                                                                                                                                                                                                                                                                                                                                                                                                                                                                                                                                                                                                                                                                                                                                                                                                          highlights  \n",
       "0  Women Veterans  need academic break pay to provide substantial financial relief between school sessions .VA should examine how changes in education benefits are impacting womenVeterans .Women Veterans  coordinators need measurable standards.Naming VA facilities after n otable military women would make VA more welcoming to women Veterans .Having more designated women’s health providers (DWHP) would improve women Veterans ’ access to care.7of 53VA should establish a plan for projecting future demand and capacity requirements th at would enable VA to meet the anticipated needs of womenVeterans  in VA facilities.Establishing a national strategic plan for breast imaging services would be beneficial in projecting future needs.VA should examine treatment provided for co -occurring ch ronic pain and substance abuse disorder in women Veterans .Collaborative partnerships between VHA’s women Veterans  program managers,VBA’s women Veterans  coordinators and states’ women Veterans  coordinators enhances women Veterans  access to benefits and se rvices.VHA should conduct an assessment of its “End Harassment” campaign.  "
      ]
     },
     "execution_count": 23,
     "metadata": {},
     "output_type": "execute_result"
    }
   ],
   "source": [
    "df_summary = pd.DataFrame({'executive_summary': [combined_string[0]], 'highlights': [combined_string[1]]})\n",
    "pd.set_option('display.max_colwidth', None)\n",
    "df_summary"
   ]
  },
  {
   "cell_type": "code",
   "execution_count": 24,
   "id": "674be233",
   "metadata": {},
   "outputs": [],
   "source": [
    "word1 = 'Recommendation :'\n",
    "word2 = 'Rationale'\n",
    "\n",
    "output = []\n",
    "\n",
    "text = pdf_reader.pages[7].extract_text()\n",
    "text = text.splitlines()[3:]\n",
    "text = ''.join(text)\n",
    "start = text.find(word1)\n",
    "end = text.find(word2)\n",
    "if start != -1 and end != -1:\n",
    "    output.append(text[start+len(word1):end])\n",
    "\n",
    "for page in range(8, 32):\n",
    "    text = pdf_reader.pages[page].extract_text()\n",
    "    text = text.splitlines()\n",
    "    text = ''.join(text)\n",
    "    start = text.find(word1)\n",
    "    end = text.find(word2)\n",
    "    if start != -1 and end != -1:\n",
    "        output.append(text[start+len(word1):end])\n",
    "\n",
    "#file.close()"
   ]
  },
  {
   "cell_type": "code",
   "execution_count": 25,
   "id": "57d6a8f7",
   "metadata": {},
   "outputs": [
    {
     "data": {
      "text/html": [
       "<div>\n",
       "<style scoped>\n",
       "    .dataframe tbody tr th:only-of-type {\n",
       "        vertical-align: middle;\n",
       "    }\n",
       "\n",
       "    .dataframe tbody tr th {\n",
       "        vertical-align: top;\n",
       "    }\n",
       "\n",
       "    .dataframe thead th {\n",
       "        text-align: right;\n",
       "    }\n",
       "</style>\n",
       "<table border=\"1\" class=\"dataframe\">\n",
       "  <thead>\n",
       "    <tr style=\"text-align: right;\">\n",
       "      <th></th>\n",
       "      <th>recommendation</th>\n",
       "    </tr>\n",
       "  </thead>\n",
       "  <tbody>\n",
       "    <tr>\n",
       "      <th>0</th>\n",
       "      <td>That the Department of Veterans  Affairs (VA) support legislation to provide academic “break pay” for women Veterans  utilizing their GI Bill education benefits.</td>\n",
       "    </tr>\n",
       "    <tr>\n",
       "      <th>1</th>\n",
       "      <td>That the Veterans  Benefits Administration ’s (VBA) Education Service collaborate s with the Veterans  Experience Office to examine barriers that exist for women Veterans , in relation to accessing education benefits across all formats (traditional/online/hybrid academic environments), enrollment in a cademic programs and continuation of higher education.</td>\n",
       "    </tr>\n",
       "    <tr>\n",
       "      <th>2</th>\n",
       "      <td>That VBA modernize the WVC position, by establishing it as a duty with measurable position standards.</td>\n",
       "    </tr>\n",
       "    <tr>\n",
       "      <th>3</th>\n",
       "      <td>That VA support H.R. 19256to designate the Manhattan Campus of the New York Harbor Health Care System of the Department of Veterans  Affairs as the \"Margaret Cochran Corbin Campus of the New York Harbor Health Care System.”</td>\n",
       "    </tr>\n",
       "    <tr>\n",
       "      <th>4</th>\n",
       "      <td>That the Veterans  Health Administration (VHA) incentivize VA health care providers to become designated women’s health providers (DWHP), to improve access to care for women Veterans .</td>\n",
       "    </tr>\n",
       "    <tr>\n",
       "      <th>5</th>\n",
       "      <td>That VHA establish a national strategic plan for breast imaging services that covers the evolving needs of women Veterans .</td>\n",
       "    </tr>\n",
       "    <tr>\n",
       "      <th>6</th>\n",
       "      <td>That VHA provide a plan for projecting future demand and capacity requirements that would enable VA to meet the anticipated needs of women Veterans  onsite, versus having to utilize community care or care through the VA Maintaining Internal Systems and Strengthening Integrated Out side Networks (MISSION) Act.b. Recommendation : That VHA provide annual reporting to the Committee regarding metrics on comprehensive care --to include screenings, annual physical exams, bloodwork, reproductive health screening, geriatric screenings, menta l health screening, and preventive treatment --and measures to ensure that comprehensive care provided to women Veterans  are equal in quality and type to the services provided to male Veterans .</td>\n",
       "    </tr>\n",
       "    <tr>\n",
       "      <th>7</th>\n",
       "      <td>That VHA increase women Veteran -centric pain management training for providers and increase women Veterans ’ access to diverse modalities of treatment for co -occurring chronic pain an d substance abuse for women Veterans . b. Recommendation : That VHA continue to research how pain management impacts women Veterans  differently than male Veterans , as well as the links between pain management and substance abuse in women Veterans .</td>\n",
       "    </tr>\n",
       "    <tr>\n",
       "      <th>8</th>\n",
       "      <td>That VHA and VBA establish a memorandum of understanding with State Departments of Veterans  Affairs to create collaborative partnerships between VHA’s women Veterans  program managers, VBA’s women Veterans  coordinators and states’ women Veterans  coordinato rs, to enhance women Veterans ’ access to local, state and Federal Veterans  benefits and services.</td>\n",
       "    </tr>\n",
       "    <tr>\n",
       "      <th>9</th>\n",
       "      <td>That VHA conduct an assessment of its End Harassment campaign, to ascertain its effectiveness and to devise a plan for modernization of the effort to resolve the ongoing problem of sexual assault and hara ssment physical violations against women Veterans  in VA facilities moving forward.</td>\n",
       "    </tr>\n",
       "  </tbody>\n",
       "</table>\n",
       "</div>"
      ],
      "text/plain": [
       "                                                                                                                                                                                                                                                                                                                                                                                                                                                                                                                                                                                                                                                                                                                                                     recommendation\n",
       "0                                                                                                                                                                                                                                                                                                                                                                                                                                                                                                                                                                                               That the Department of Veterans  Affairs (VA) support legislation to provide academic “break pay” for women Veterans  utilizing their GI Bill education benefits.  \n",
       "1                                                                                                                                                                                                                                                                                                                                                                                            That the Veterans  Benefits Administration ’s (VBA) Education Service collaborate s with the Veterans  Experience Office to examine barriers that exist for women Veterans , in relation to accessing education benefits across all formats (traditional/online/hybrid academic environments), enrollment in a cademic programs and continuation of higher education. \n",
       "2                                                                                                                                                                                                                                                                                                                                                                                                                                                                                                                                                                                                                                                            That VBA modernize the WVC position, by establishing it as a duty with measurable position standards. \n",
       "3                                                                                                                                                                                                                                                                                                                                                                                                                                                                                                                                   That VA support H.R. 19256to designate the Manhattan Campus of the New York Harbor Health Care System of the Department of Veterans  Affairs as the \"Margaret Cochran Corbin Campus of the New York Harbor Health Care System.”\n",
       "4                                                                                                                                                                                                                                                                                                                                                                                                                                                                                                                                                                         That the Veterans  Health Administration (VHA) incentivize VA health care providers to become designated women’s health providers (DWHP), to improve access to care for women Veterans . \n",
       "5                                                                                                                                                                                                                                                                                                                                                                                                                                                                                                                                                                                                                                      That VHA establish a national strategic plan for breast imaging services that covers the evolving needs of women Veterans . \n",
       "6   That VHA provide a plan for projecting future demand and capacity requirements that would enable VA to meet the anticipated needs of women Veterans  onsite, versus having to utilize community care or care through the VA Maintaining Internal Systems and Strengthening Integrated Out side Networks (MISSION) Act.b. Recommendation : That VHA provide annual reporting to the Committee regarding metrics on comprehensive care --to include screenings, annual physical exams, bloodwork, reproductive health screening, geriatric screenings, menta l health screening, and preventive treatment --and measures to ensure that comprehensive care provided to women Veterans  are equal in quality and type to the services provided to male Veterans . \n",
       "7                                                                                                                                                                                                                                                                                                             That VHA increase women Veteran -centric pain management training for providers and increase women Veterans ’ access to diverse modalities of treatment for co -occurring chronic pain an d substance abuse for women Veterans . b. Recommendation : That VHA continue to research how pain management impacts women Veterans  differently than male Veterans , as well as the links between pain management and substance abuse in women Veterans . \n",
       "8                                                                                                                                                                                                                                                                                                                                                                                          That VHA and VBA establish a memorandum of understanding with State Departments of Veterans  Affairs to create collaborative partnerships between VHA’s women Veterans  program managers, VBA’s women Veterans  coordinators and states’ women Veterans  coordinato rs, to enhance women Veterans ’ access to local, state and Federal Veterans  benefits and services. \n",
       "9                                                                                                                                                                                                                                                                                                                                                                                                                                                                 That VHA conduct an assessment of its End Harassment campaign, to ascertain its effectiveness and to devise a plan for modernization of the effort to resolve the ongoing problem of sexual assault and hara ssment physical violations against women Veterans  in VA facilities moving forward. "
      ]
     },
     "execution_count": 25,
     "metadata": {},
     "output_type": "execute_result"
    }
   ],
   "source": [
    "recommendation = pd.DataFrame({'recommendation': output})\n",
    "recommendation"
   ]
  },
  {
   "cell_type": "code",
   "execution_count": null,
   "id": "16c969d2",
   "metadata": {},
   "outputs": [],
   "source": []
  }
 ],
 "metadata": {
  "kernelspec": {
   "display_name": "Python 3 (ipykernel)",
   "language": "python",
   "name": "python3"
  },
  "language_info": {
   "codemirror_mode": {
    "name": "ipython",
    "version": 3
   },
   "file_extension": ".py",
   "mimetype": "text/x-python",
   "name": "python",
   "nbconvert_exporter": "python",
   "pygments_lexer": "ipython3",
   "version": "3.8.8"
  }
 },
 "nbformat": 4,
 "nbformat_minor": 5
}

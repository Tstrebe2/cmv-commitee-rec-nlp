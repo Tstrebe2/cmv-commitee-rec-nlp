{
 "cells": [
  {
   "cell_type": "code",
   "execution_count": 1,
   "id": "abc638d3",
   "metadata": {},
   "outputs": [],
   "source": [
    "import PyPDF2 as pdf"
   ]
  },
  {
   "cell_type": "code",
   "execution_count": 2,
   "id": "206613bf",
   "metadata": {},
   "outputs": [
    {
     "data": {
      "text/plain": [
       "<_io.BufferedReader name='2018.pdf'>"
      ]
     },
     "execution_count": 2,
     "metadata": {},
     "output_type": "execute_result"
    }
   ],
   "source": [
    "# open the file in the folder\n",
    "file = open('2018.pdf','rb')\n",
    "file"
   ]
  },
  {
   "cell_type": "code",
   "execution_count": 3,
   "id": "a18a99c9",
   "metadata": {},
   "outputs": [
    {
     "data": {
      "text/plain": [
       "<PyPDF2._reader.PdfReader at 0x7fad94991a60>"
      ]
     },
     "execution_count": 3,
     "metadata": {},
     "output_type": "execute_result"
    }
   ],
   "source": [
    "# create a pdfreader object\n",
    "pdf_reader = pdf.PdfReader(file)\n",
    "pdf_reader"
   ]
  },
  {
   "cell_type": "code",
   "execution_count": 4,
   "id": "33dc9f83",
   "metadata": {},
   "outputs": [
    {
     "data": {
      "text/plain": [
       "False"
      ]
     },
     "execution_count": 4,
     "metadata": {},
     "output_type": "execute_result"
    }
   ],
   "source": [
    "# check if the file is encrypted\n",
    "pdf_reader.is_encrypted"
   ]
  },
  {
   "cell_type": "code",
   "execution_count": 5,
   "id": "cf5fc572",
   "metadata": {},
   "outputs": [
    {
     "data": {
      "text/plain": [
       "44"
      ]
     },
     "execution_count": 5,
     "metadata": {},
     "output_type": "execute_result"
    }
   ],
   "source": [
    "# get the total page numbers\n",
    "len(pdf_reader.pages)"
   ]
  },
  {
   "cell_type": "code",
   "execution_count": 6,
   "id": "6e6a2bfc",
   "metadata": {},
   "outputs": [
    {
     "data": {
      "text/plain": [
       "' \\n \\n \\n \\nDepartment of Veterans Affairs  \\nReport of the Advisory Committee on Women \\nVeterans  \\n \\n \\n \\n \\n \\n \\n \\n \\n \\nSeptember 2018  \\n '"
      ]
     },
     "execution_count": 6,
     "metadata": {},
     "output_type": "execute_result"
    }
   ],
   "source": [
    "# read page 1 (cover page)\n",
    "page1 = pdf_reader.pages[0]\n",
    "page1.extract_text()"
   ]
  },
  {
   "cell_type": "code",
   "execution_count": 7,
   "id": "a39ec6e9",
   "metadata": {},
   "outputs": [
    {
     "data": {
      "text/plain": [
       "'2 Table of Contents  \\n \\nLetter from the Chair                                                                                     \\n 3 \\nPart I  Executive Summary                                                                      \\n 6 \\nPart II  Recommendations, Rationales, and VA Responses                 \\n 8 \\n A. Identification of Barriers to Accessing Benefits     \\n        8 \\n B. Comprehensive Needs Assessment  \\n                        9 \\n C. Billing for Non -VA Care  \\n                                                                      12 \\n D. Identifying  Military Occupational/Hazardous Exposures  \\n 17 \\n E. Non -traditional Treatment for Military Sexual Trauma -related \\nConditions  \\n 18 \\n F. Women Veterans Program Managers  \\n 21 \\n G. Increased Support for Advisory Committee on Women \\nVeterans ’ Activities  \\n 24 \\nPart III  Appendices                                                                                   \\n 26 \\n A. Historical Perspective                                                             \\n 26 \\n B. VA Advisory Committee on Women Veterans Current \\nMembership Profile s      \\n                                                             29 \\n C. Summary of Site Visits (2016 -2017)                                   \\n 35 \\n D. Briefings to the Advisory Committee on Women  \\n     Veterans (2016 -2018)                                                              \\n 36 \\n \\n E. 2017 Charter of the Advisory Committee on Women  \\n     Veterans                                                                                   \\n 40 \\n F. Center for Women Veterans  Mission and Goals      \\n \\n \\n \\n \\n \\n           43 '"
      ]
     },
     "execution_count": 7,
     "metadata": {},
     "output_type": "execute_result"
    }
   ],
   "source": [
    "# read page 2 (table of content)\n",
    "page2 = pdf_reader.pages[1]\n",
    "page2.extract_text()"
   ]
  },
  {
   "cell_type": "code",
   "execution_count": 8,
   "id": "44b7bf7c",
   "metadata": {},
   "outputs": [
    {
     "data": {
      "text/plain": [
       "['2 Table of Contents  ',\n",
       " ' ',\n",
       " 'Letter from the Chair                                                                                     ',\n",
       " ' 3 ',\n",
       " 'Part I  Executive Summary                                                                      ',\n",
       " ' 6 ',\n",
       " 'Part II  Recommendations, Rationales, and VA Responses                 ',\n",
       " ' 8 ',\n",
       " ' A. Identification of Barriers to Accessing Benefits     ',\n",
       " '        8 ',\n",
       " ' B. Comprehensive Needs Assessment  ',\n",
       " '                        9 ',\n",
       " ' C. Billing for Non -VA Care  ',\n",
       " '                                                                      12 ',\n",
       " ' D. Identifying  Military Occupational/Hazardous Exposures  ',\n",
       " ' 17 ',\n",
       " ' E. Non -traditional Treatment for Military Sexual Trauma -related ',\n",
       " 'Conditions  ',\n",
       " ' 18 ',\n",
       " ' F. Women Veterans Program Managers  ',\n",
       " ' 21 ',\n",
       " ' G. Increased Support for Advisory Committee on Women ',\n",
       " 'Veterans ’ Activities  ',\n",
       " ' 24 ',\n",
       " 'Part III  Appendices                                                                                   ',\n",
       " ' 26 ',\n",
       " ' A. Historical Perspective                                                             ',\n",
       " ' 26 ',\n",
       " ' B. VA Advisory Committee on Women Veterans Current ',\n",
       " 'Membership Profile s      ',\n",
       " '                                                             29 ',\n",
       " ' C. Summary of Site Visits (2016 -2017)                                   ',\n",
       " ' 35 ',\n",
       " ' D. Briefings to the Advisory Committee on Women  ',\n",
       " '     Veterans (2016 -2018)                                                              ',\n",
       " ' 36 ',\n",
       " ' ',\n",
       " ' E. 2017 Charter of the Advisory Committee on Women  ',\n",
       " '     Veterans                                                                                   ',\n",
       " ' 40 ',\n",
       " ' F. Center for Women Veterans  Mission and Goals      ',\n",
       " ' ',\n",
       " ' ',\n",
       " ' ',\n",
       " ' ',\n",
       " ' ',\n",
       " '           43 ']"
      ]
     },
     "execution_count": 8,
     "metadata": {},
     "output_type": "execute_result"
    }
   ],
   "source": [
    "# use a list to show the table of content\n",
    "#lines = page2.extract_text().replace('\\n', ' ').split('.')\n",
    "lines = page2.extract_text().splitlines()\n",
    "lines"
   ]
  },
  {
   "cell_type": "code",
   "execution_count": 9,
   "id": "85baded9",
   "metadata": {
    "scrolled": false
   },
   "outputs": [
    {
     "data": {
      "text/plain": [
       "['2 Table of Contents',\n",
       " 'Letter from the Chair',\n",
       " '3',\n",
       " 'Part I  Executive Summary',\n",
       " '6',\n",
       " 'Part II  Recommendations, Rationales, and VA Responses',\n",
       " '8',\n",
       " 'A Identification of Barriers to Accessing Benefits',\n",
       " '8',\n",
       " 'B Comprehensive Needs Assessment',\n",
       " '9',\n",
       " 'C Billing for Non -VA Care',\n",
       " '12',\n",
       " 'D Identifying  Military Occupational/Hazardous Exposures',\n",
       " '17',\n",
       " 'E Non -traditional Treatment for Military Sexual Trauma -related',\n",
       " 'Conditions',\n",
       " '18',\n",
       " 'F Women Veterans Program Managers',\n",
       " '21',\n",
       " 'G Increased Support for Advisory Committee on Women',\n",
       " 'Veterans ’ Activities',\n",
       " '24',\n",
       " 'Part III  Appendices',\n",
       " '26',\n",
       " 'A Historical Perspective',\n",
       " '26',\n",
       " 'B VA Advisory Committee on Women Veterans Current',\n",
       " 'Membership Profile s',\n",
       " '29',\n",
       " 'C Summary of Site Visits (2016 -2017)',\n",
       " '35',\n",
       " 'D Briefings to the Advisory Committee on Women',\n",
       " 'Veterans (2016 -2018)',\n",
       " '36',\n",
       " 'E 2017 Charter of the Advisory Committee on Women',\n",
       " 'Veterans',\n",
       " '40',\n",
       " 'F Center for Women Veterans  Mission and Goals',\n",
       " '43']"
      ]
     },
     "execution_count": 9,
     "metadata": {},
     "output_type": "execute_result"
    }
   ],
   "source": [
    "# remove the ...\n",
    "my_list_cleaned = [s.replace('.', '').strip() for s in lines]\n",
    "my_list_cleaned = [x for x in my_list_cleaned if x != '']\n",
    "my_list_cleaned"
   ]
  },
  {
   "cell_type": "code",
   "execution_count": 10,
   "id": "92b6df13",
   "metadata": {
    "scrolled": false
   },
   "outputs": [
    {
     "data": {
      "text/plain": [
       "['Letter from the Chair',\n",
       " '3',\n",
       " 'Part I  Executive Summary',\n",
       " '6',\n",
       " 'Part II  Recommendations, Rationales, and VA Responses',\n",
       " '8',\n",
       " 'A Identification of Barriers to Accessing Benefits',\n",
       " '8',\n",
       " 'B Comprehensive Needs Assessment',\n",
       " '9',\n",
       " 'C Billing for Non -VA Care',\n",
       " '12',\n",
       " 'D Identifying  Military Occupational/Hazardous Exposures',\n",
       " '17',\n",
       " 'E Non -traditional Treatment for Military Sexual Trauma -related',\n",
       " 'Conditions',\n",
       " '18',\n",
       " 'F Women Veterans Program Managers',\n",
       " '21',\n",
       " 'G Increased Support for Advisory Committee on Women',\n",
       " 'Veterans ’ Activities',\n",
       " '24',\n",
       " 'Part III  Appendices',\n",
       " '26',\n",
       " 'A Historical Perspective',\n",
       " '26',\n",
       " 'B VA Advisory Committee on Women Veterans Current',\n",
       " 'Membership Profile s',\n",
       " '29',\n",
       " 'C Summary of Site Visits (2016 -2017)',\n",
       " '35',\n",
       " 'D Briefings to the Advisory Committee on Women',\n",
       " 'Veterans (2016 -2018)',\n",
       " '36',\n",
       " 'E 2017 Charter of the Advisory Committee on Women',\n",
       " 'Veterans',\n",
       " '40',\n",
       " 'F Center for Women Veterans  Mission and Goals',\n",
       " '43']"
      ]
     },
     "execution_count": 10,
     "metadata": {},
     "output_type": "execute_result"
    }
   ],
   "source": [
    "# remove the first element in the list\n",
    "my_list_cleaned = my_list_cleaned[1:]\n",
    "my_list_cleaned\n",
    "# as shown below, some titles are separated as two elements in this list"
   ]
  },
  {
   "cell_type": "code",
   "execution_count": 11,
   "id": "2fa3dc9d",
   "metadata": {},
   "outputs": [
    {
     "data": {
      "text/plain": [
       "39"
      ]
     },
     "execution_count": 11,
     "metadata": {},
     "output_type": "execute_result"
    }
   ],
   "source": [
    "len(my_list_cleaned)"
   ]
  },
  {
   "cell_type": "code",
   "execution_count": 12,
   "id": "a74282fc",
   "metadata": {},
   "outputs": [
    {
     "name": "stdout",
     "output_type": "stream",
     "text": [
      "['Letter from the Chair', '3', 'Part I  Executive Summary', '6', 'Part II  Recommendations, Rationales, and VA Responses', '8', 'A Identification of Barriers to Accessing Benefits', '8', 'B Comprehensive Needs Assessment', '9', 'C Billing for Non -VA Care', '12', 'D Identifying  Military Occupational/Hazardous Exposures', '17', 'E Non -traditional Treatment for Military Sexual Trauma -related Conditions', '18', 'F Women Veterans Program Managers', '21', 'G Increased Support for Advisory Committee on Women Veterans ’ Activities', '24', 'Part III  Appendices', '26', 'A Historical Perspective', '26', 'B VA Advisory Committee on Women Veterans Current Membership Profile s', '29', 'C Summary of Site Visits (2016 -2017)', '35', 'D Briefings to the Advisory Committee on Women Veterans (2016 -2018)', '36', 'E 2017 Charter of the Advisory Committee on Women Veterans', '40', 'F Center for Women Veterans  Mission and Goals', '43']\n",
      "34\n"
     ]
    }
   ],
   "source": [
    "import re\n",
    "\n",
    "result = []\n",
    "temp_str = \"\"\n",
    "for item in my_list_cleaned:\n",
    "    if re.match(\"[a-zA-Z]+\", item):\n",
    "        temp_str += item + \" \"\n",
    "    else:\n",
    "        if temp_str:\n",
    "            result.append(temp_str.strip())\n",
    "            temp_str = \"\"\n",
    "        result.append(item)\n",
    "if temp_str:\n",
    "    result.append(temp_str.strip())\n",
    "\n",
    "print(result)\n",
    "print(len(result))\n",
    "\n",
    "# now the list below is cleaned"
   ]
  },
  {
   "cell_type": "code",
   "execution_count": 13,
   "id": "b5d8a79d",
   "metadata": {},
   "outputs": [
    {
     "data": {
      "text/plain": [
       "[('Letter from the Chair', '3'),\n",
       " ('Part I  Executive Summary', '6'),\n",
       " ('Part II  Recommendations, Rationales, and VA Responses', '8'),\n",
       " ('A Identification of Barriers to Accessing Benefits', '8'),\n",
       " ('B Comprehensive Needs Assessment', '9'),\n",
       " ('C Billing for Non -VA Care', '12'),\n",
       " ('D Identifying  Military Occupational/Hazardous Exposures', '17'),\n",
       " ('E Non -traditional Treatment for Military Sexual Trauma -related Conditions',\n",
       "  '18'),\n",
       " ('F Women Veterans Program Managers', '21'),\n",
       " ('G Increased Support for Advisory Committee on Women Veterans ’ Activities',\n",
       "  '24'),\n",
       " ('Part III  Appendices', '26'),\n",
       " ('A Historical Perspective', '26'),\n",
       " ('B VA Advisory Committee on Women Veterans Current Membership Profile s',\n",
       "  '29'),\n",
       " ('C Summary of Site Visits (2016 -2017)', '35'),\n",
       " ('D Briefings to the Advisory Committee on Women Veterans (2016 -2018)',\n",
       "  '36'),\n",
       " ('E 2017 Charter of the Advisory Committee on Women Veterans', '40'),\n",
       " ('F Center for Women Veterans  Mission and Goals', '43')]"
      ]
     },
     "execution_count": 13,
     "metadata": {},
     "output_type": "execute_result"
    }
   ],
   "source": [
    "my_list_cleaned = [(result[i], result[i+1]) for i in range(0, len(result), 2)]\n",
    "my_list_cleaned"
   ]
  },
  {
   "cell_type": "code",
   "execution_count": 14,
   "id": "5ebabfd7",
   "metadata": {
    "scrolled": false
   },
   "outputs": [
    {
     "data": {
      "text/html": [
       "<div>\n",
       "<style scoped>\n",
       "    .dataframe tbody tr th:only-of-type {\n",
       "        vertical-align: middle;\n",
       "    }\n",
       "\n",
       "    .dataframe tbody tr th {\n",
       "        vertical-align: top;\n",
       "    }\n",
       "\n",
       "    .dataframe thead th {\n",
       "        text-align: right;\n",
       "    }\n",
       "</style>\n",
       "<table border=\"1\" class=\"dataframe\">\n",
       "  <thead>\n",
       "    <tr style=\"text-align: right;\">\n",
       "      <th></th>\n",
       "      <th>content</th>\n",
       "      <th>page_number</th>\n",
       "    </tr>\n",
       "  </thead>\n",
       "  <tbody>\n",
       "    <tr>\n",
       "      <th>0</th>\n",
       "      <td>Letter from the Chair</td>\n",
       "      <td>3</td>\n",
       "    </tr>\n",
       "    <tr>\n",
       "      <th>1</th>\n",
       "      <td>Part I  Executive Summary</td>\n",
       "      <td>6</td>\n",
       "    </tr>\n",
       "    <tr>\n",
       "      <th>2</th>\n",
       "      <td>Part II  Recommendations, Rationales, and VA R...</td>\n",
       "      <td>8</td>\n",
       "    </tr>\n",
       "    <tr>\n",
       "      <th>3</th>\n",
       "      <td>A Identification of Barriers to Accessing Bene...</td>\n",
       "      <td>8</td>\n",
       "    </tr>\n",
       "    <tr>\n",
       "      <th>4</th>\n",
       "      <td>B Comprehensive Needs Assessment</td>\n",
       "      <td>9</td>\n",
       "    </tr>\n",
       "    <tr>\n",
       "      <th>5</th>\n",
       "      <td>C Billing for Non -VA Care</td>\n",
       "      <td>12</td>\n",
       "    </tr>\n",
       "    <tr>\n",
       "      <th>6</th>\n",
       "      <td>D Identifying  Military Occupational/Hazardous...</td>\n",
       "      <td>17</td>\n",
       "    </tr>\n",
       "    <tr>\n",
       "      <th>7</th>\n",
       "      <td>E Non -traditional Treatment for Military Sexu...</td>\n",
       "      <td>18</td>\n",
       "    </tr>\n",
       "    <tr>\n",
       "      <th>8</th>\n",
       "      <td>F Women Veterans Program Managers</td>\n",
       "      <td>21</td>\n",
       "    </tr>\n",
       "    <tr>\n",
       "      <th>9</th>\n",
       "      <td>G Increased Support for Advisory Committee on ...</td>\n",
       "      <td>24</td>\n",
       "    </tr>\n",
       "    <tr>\n",
       "      <th>10</th>\n",
       "      <td>Part III  Appendices</td>\n",
       "      <td>26</td>\n",
       "    </tr>\n",
       "    <tr>\n",
       "      <th>11</th>\n",
       "      <td>A Historical Perspective</td>\n",
       "      <td>26</td>\n",
       "    </tr>\n",
       "    <tr>\n",
       "      <th>12</th>\n",
       "      <td>B VA Advisory Committee on Women Veterans Curr...</td>\n",
       "      <td>29</td>\n",
       "    </tr>\n",
       "    <tr>\n",
       "      <th>13</th>\n",
       "      <td>C Summary of Site Visits (2016 -2017)</td>\n",
       "      <td>35</td>\n",
       "    </tr>\n",
       "    <tr>\n",
       "      <th>14</th>\n",
       "      <td>D Briefings to the Advisory Committee on Women...</td>\n",
       "      <td>36</td>\n",
       "    </tr>\n",
       "    <tr>\n",
       "      <th>15</th>\n",
       "      <td>E 2017 Charter of the Advisory Committee on Wo...</td>\n",
       "      <td>40</td>\n",
       "    </tr>\n",
       "    <tr>\n",
       "      <th>16</th>\n",
       "      <td>F Center for Women Veterans  Mission and Goals</td>\n",
       "      <td>43</td>\n",
       "    </tr>\n",
       "  </tbody>\n",
       "</table>\n",
       "</div>"
      ],
      "text/plain": [
       "                                              content page_number\n",
       "0                               Letter from the Chair           3\n",
       "1                           Part I  Executive Summary           6\n",
       "2   Part II  Recommendations, Rationales, and VA R...           8\n",
       "3   A Identification of Barriers to Accessing Bene...           8\n",
       "4                    B Comprehensive Needs Assessment           9\n",
       "5                          C Billing for Non -VA Care          12\n",
       "6   D Identifying  Military Occupational/Hazardous...          17\n",
       "7   E Non -traditional Treatment for Military Sexu...          18\n",
       "8                   F Women Veterans Program Managers          21\n",
       "9   G Increased Support for Advisory Committee on ...          24\n",
       "10                               Part III  Appendices          26\n",
       "11                           A Historical Perspective          26\n",
       "12  B VA Advisory Committee on Women Veterans Curr...          29\n",
       "13              C Summary of Site Visits (2016 -2017)          35\n",
       "14  D Briefings to the Advisory Committee on Women...          36\n",
       "15  E 2017 Charter of the Advisory Committee on Wo...          40\n",
       "16     F Center for Women Veterans  Mission and Goals          43"
      ]
     },
     "execution_count": 14,
     "metadata": {},
     "output_type": "execute_result"
    }
   ],
   "source": [
    "import pandas as pd\n",
    "df = pd.DataFrame(my_list_cleaned, columns=['content', 'page_number'])\n",
    "df"
   ]
  },
  {
   "cell_type": "code",
   "execution_count": 15,
   "id": "8167f73d",
   "metadata": {
    "scrolled": false
   },
   "outputs": [
    {
     "data": {
      "text/plain": [
       "\"6 Part I  \\nExecutive Summary  \\n \\nThe Department of Veterans Affairs (VA) Advisory Committee on Women Veterans’ \\n2018 report provides recommendations and supporting rationales that address the \\nfollowing issues:  \\n• Identif ication of  Barriers to  Accessing Benefits   \\n• Assessment of  the Comprehensive Needs for Women Veterans  \\n• Direct Billing of Veterans for Non -VA Care  \\n• Identification of  Women Veterans’ Military Occupations and Hazardous \\nExposures  \\n• Consideration of Non -traditional Treatments for Military Sexual Trauma -related \\nConditions  \\n• Assessment of  the Women Veterans Program Managers Program  \\n• Increas ed Support for Advisory Committee on Women Veterans ' Activities  \\n \\nThe report of the Advisory Committee on Women Veterans (Committee) is submitted \\nbiennially by the Committee.  The Committee members are app ointed by the Secretary \\nof Veterans Affairs (Secretary) for a 2 -year or 3 -year term.  The current Committee \\nmembership includes Veterans of the Air Force, Navy, Army, Marine Corps, and \\nNational Guar d.  Members represent a variety of military career fields and possess \\nextensive military experience, to include service in the Persian Gulf War, and Operation \\nEnduring Freedom/Operation Iraqi Freedom/Operation New Dawn (OEF/OIF/OND).  \\n \\nA total of seven recommendations with supporting rationale, as well as response s from \\nVA, are provided in this report.  Recommendations stem from data and information \\ngathered in exchange with VA officials, women Veterans, researchers, Veterans Service \\nOrganizations, and site visits to Veterans Health Administration (VHA), National \\nCemetery Administration (NCA), and Veterans Benefits Administration (VBA) facilities.  \\nThe recommendations and supporting rationales provide insightful advice for VA to \\nstrategica lly and efficiently address the evolving  needs of women Veterans.   \\n \\nHighlight s \\n• Veterans Benefits Administration (VBA) should conduct a study to identify \\nbarriers impacting women Veterans’ access to the benefits it administers, and \\ndevelop an action plan to address the barriers identified .   \\n• VA should conduct a comprehensive needs assessment of the women Veterans \\npopulation.  \\n• VA should identify Veterans who  were directly billed for non -VA care, reimburse \\nthem for payments made, provide assistance to repair credit, and set \\nmechanisms in place to prevent direct billing.    \""
      ]
     },
     "execution_count": 15,
     "metadata": {},
     "output_type": "execute_result"
    }
   ],
   "source": [
    "#read page 6\n",
    "page6 = pdf_reader.pages[5]\n",
    "page6.extract_text()"
   ]
  },
  {
   "cell_type": "code",
   "execution_count": 16,
   "id": "785d01f9",
   "metadata": {},
   "outputs": [
    {
     "data": {
      "text/plain": [
       "['The Department of Veterans Affairs (VA) Advisory Committee on Women Veterans’ ',\n",
       " '2018 report provides recommendations and supporting rationales that address the ',\n",
       " 'following issues:  ',\n",
       " '• Identif ication of  Barriers to  Accessing Benefits   ',\n",
       " '• Assessment of  the Comprehensive Needs for Women Veterans  ',\n",
       " '• Direct Billing of Veterans for Non -VA Care  ',\n",
       " '• Identification of  Women Veterans’ Military Occupations and Hazardous ',\n",
       " 'Exposures  ',\n",
       " '• Consideration of Non -traditional Treatments for Military Sexual Trauma -related ',\n",
       " 'Conditions  ',\n",
       " '• Assessment of  the Women Veterans Program Managers Program  ',\n",
       " \"• Increas ed Support for Advisory Committee on Women Veterans ' Activities  \",\n",
       " ' ',\n",
       " 'The report of the Advisory Committee on Women Veterans (Committee) is submitted ',\n",
       " 'biennially by the Committee.  The Committee members are app ointed by the Secretary ',\n",
       " 'of Veterans Affairs (Secretary) for a 2 -year or 3 -year term.  The current Committee ',\n",
       " 'membership includes Veterans of the Air Force, Navy, Army, Marine Corps, and ',\n",
       " 'National Guar d.  Members represent a variety of military career fields and possess ',\n",
       " 'extensive military experience, to include service in the Persian Gulf War, and Operation ',\n",
       " 'Enduring Freedom/Operation Iraqi Freedom/Operation New Dawn (OEF/OIF/OND).  ',\n",
       " ' ',\n",
       " 'A total of seven recommendations with supporting rationale, as well as response s from ',\n",
       " 'VA, are provided in this report.  Recommendations stem from data and information ',\n",
       " 'gathered in exchange with VA officials, women Veterans, researchers, Veterans Service ',\n",
       " 'Organizations, and site visits to Veterans Health Administration (VHA), National ',\n",
       " 'Cemetery Administration (NCA), and Veterans Benefits Administration (VBA) facilities.  ',\n",
       " 'The recommendations and supporting rationales provide insightful advice for VA to ',\n",
       " 'strategica lly and efficiently address the evolving  needs of women Veterans.   ',\n",
       " ' ',\n",
       " 'Highlight s ',\n",
       " '• Veterans Benefits Administration (VBA) should conduct a study to identify ',\n",
       " 'barriers impacting women Veterans’ access to the benefits it administers, and ',\n",
       " 'develop an action plan to address the barriers identified .   ',\n",
       " '• VA should conduct a comprehensive needs assessment of the women Veterans ',\n",
       " 'population.  ',\n",
       " '• VA should identify Veterans who  were directly billed for non -VA care, reimburse ',\n",
       " 'them for payments made, provide assistance to repair credit, and set ',\n",
       " 'mechanisms in place to prevent direct billing.    ']"
      ]
     },
     "execution_count": 16,
     "metadata": {},
     "output_type": "execute_result"
    }
   ],
   "source": [
    "page6_list = page6.extract_text().splitlines()[3:]\n",
    "page6_list"
   ]
  },
  {
   "cell_type": "code",
   "execution_count": 17,
   "id": "7dab7deb",
   "metadata": {},
   "outputs": [
    {
     "data": {
      "text/plain": [
       "'7 • VA should ex amine and document occupational and other hazardous exposures \\nwomen Veterans encounter during their military service.  \\n• VA should explore the  effectiveness of novel psychotherapeutic and \\npsychopharmacological treatment modalities, for clinical practice in th e treatment \\nof military sexual trauma -related conditions.   \\n• VA should examine the current utilization of women Veterans program managers \\n(WVPMs) across the enterprise, to ensure that they are functioning in the  role as \\ndefined in the position description.  \\n• VA should allocate additional resources to the Center for Women Veterans, \\nincrease support for the Advisory Committee on Women Veterans’ activities . \\n \\n \\n  '"
      ]
     },
     "execution_count": 17,
     "metadata": {},
     "output_type": "execute_result"
    }
   ],
   "source": [
    "#read page 7\n",
    "page7 = pdf_reader.pages[6]\n",
    "page7.extract_text()"
   ]
  },
  {
   "cell_type": "code",
   "execution_count": 18,
   "id": "68f06c9b",
   "metadata": {},
   "outputs": [
    {
     "data": {
      "text/plain": [
       "['women Veterans encounter during their military service.  ',\n",
       " '• VA should explore the  effectiveness of novel psychotherapeutic and ',\n",
       " 'psychopharmacological treatment modalities, for clinical practice in th e treatment ',\n",
       " 'of military sexual trauma -related conditions.   ',\n",
       " '• VA should examine the current utilization of women Veterans program managers ',\n",
       " '(WVPMs) across the enterprise, to ensure that they are functioning in the  role as ',\n",
       " 'defined in the position description.  ',\n",
       " '• VA should allocate additional resources to the Center for Women Veterans, ',\n",
       " 'increase support for the Advisory Committee on Women Veterans’ activities . ',\n",
       " ' ',\n",
       " ' ',\n",
       " '  ']"
      ]
     },
     "execution_count": 18,
     "metadata": {},
     "output_type": "execute_result"
    }
   ],
   "source": [
    "page7_list = page7.extract_text().splitlines()[1:]\n",
    "page7_list"
   ]
  },
  {
   "cell_type": "code",
   "execution_count": 19,
   "id": "54f6f723",
   "metadata": {},
   "outputs": [
    {
     "data": {
      "text/plain": [
       "['The Department of Veterans Affairs (VA) Advisory Committee on Women Veterans’ ',\n",
       " '2018 report provides recommendations and supporting rationales that address the ',\n",
       " 'following issues:  ',\n",
       " '• Identif ication of  Barriers to  Accessing Benefits   ',\n",
       " '• Assessment of  the Comprehensive Needs for Women Veterans  ',\n",
       " '• Direct Billing of Veterans for Non -VA Care  ',\n",
       " '• Identification of  Women Veterans’ Military Occupations and Hazardous ',\n",
       " 'Exposures  ',\n",
       " '• Consideration of Non -traditional Treatments for Military Sexual Trauma -related ',\n",
       " 'Conditions  ',\n",
       " '• Assessment of  the Women Veterans Program Managers Program  ',\n",
       " \"• Increas ed Support for Advisory Committee on Women Veterans ' Activities  \",\n",
       " ' ',\n",
       " 'The report of the Advisory Committee on Women Veterans (Committee) is submitted ',\n",
       " 'biennially by the Committee.  The Committee members are app ointed by the Secretary ',\n",
       " 'of Veterans Affairs (Secretary) for a 2 -year or 3 -year term.  The current Committee ',\n",
       " 'membership includes Veterans of the Air Force, Navy, Army, Marine Corps, and ',\n",
       " 'National Guar d.  Members represent a variety of military career fields and possess ',\n",
       " 'extensive military experience, to include service in the Persian Gulf War, and Operation ',\n",
       " 'Enduring Freedom/Operation Iraqi Freedom/Operation New Dawn (OEF/OIF/OND).  ',\n",
       " ' ',\n",
       " 'A total of seven recommendations with supporting rationale, as well as response s from ',\n",
       " 'VA, are provided in this report.  Recommendations stem from data and information ',\n",
       " 'gathered in exchange with VA officials, women Veterans, researchers, Veterans Service ',\n",
       " 'Organizations, and site visits to Veterans Health Administration (VHA), National ',\n",
       " 'Cemetery Administration (NCA), and Veterans Benefits Administration (VBA) facilities.  ',\n",
       " 'The recommendations and supporting rationales provide insightful advice for VA to ',\n",
       " 'strategica lly and efficiently address the evolving  needs of women Veterans.   ',\n",
       " ' ',\n",
       " 'Highlight s ',\n",
       " '• Veterans Benefits Administration (VBA) should conduct a study to identify ',\n",
       " 'barriers impacting women Veterans’ access to the benefits it administers, and ',\n",
       " 'develop an action plan to address the barriers identified .   ',\n",
       " '• VA should conduct a comprehensive needs assessment of the women Veterans ',\n",
       " 'population.  ',\n",
       " '• VA should identify Veterans who  were directly billed for non -VA care, reimburse ',\n",
       " 'them for payments made, provide assistance to repair credit, and set ',\n",
       " 'mechanisms in place to prevent direct billing.    ',\n",
       " 'women Veterans encounter during their military service.  ',\n",
       " '• VA should explore the  effectiveness of novel psychotherapeutic and ',\n",
       " 'psychopharmacological treatment modalities, for clinical practice in th e treatment ',\n",
       " 'of military sexual trauma -related conditions.   ',\n",
       " '• VA should examine the current utilization of women Veterans program managers ',\n",
       " '(WVPMs) across the enterprise, to ensure that they are functioning in the  role as ',\n",
       " 'defined in the position description.  ',\n",
       " '• VA should allocate additional resources to the Center for Women Veterans, ',\n",
       " 'increase support for the Advisory Committee on Women Veterans’ activities . ',\n",
       " ' ',\n",
       " ' ',\n",
       " '  ']"
      ]
     },
     "execution_count": 19,
     "metadata": {},
     "output_type": "execute_result"
    }
   ],
   "source": [
    "# Add page 6 and page 7 in the executive summary\n",
    "executive_summary = []\n",
    "executive_summary.extend(page6_list)\n",
    "executive_summary.extend(page7_list)\n",
    "executive_summary"
   ]
  },
  {
   "cell_type": "code",
   "execution_count": 20,
   "id": "5982e373",
   "metadata": {},
   "outputs": [
    {
     "data": {
      "text/plain": [
       "['The Department of Veterans Affairs (VA) Advisory Committee on Women Veterans’ ',\n",
       " '2018 report provides recommendations and supporting rationales that address the ',\n",
       " 'following issues:  ',\n",
       " '• Identif ication of  Barriers to  Accessing Benefits   ',\n",
       " '• Assessment of  the Comprehensive Needs for Women Veterans  ',\n",
       " '• Direct Billing of Veterans for Non -VA Care  ',\n",
       " '• Identification of  Women Veterans’ Military Occupations and Hazardous ',\n",
       " 'Exposures  ',\n",
       " '• Consideration of Non -traditional Treatments for Military Sexual Trauma -related ',\n",
       " 'Conditions  ',\n",
       " '• Assessment of  the Women Veterans Program Managers Program  ',\n",
       " \"• Increas ed Support for Advisory Committee on Women Veterans ' Activities  \",\n",
       " ' ',\n",
       " 'The report of the Advisory Committee on Women Veterans (Committee) is submitted ',\n",
       " 'biennially by the Committee.  The Committee members are app ointed by the Secretary ',\n",
       " 'of Veterans Affairs (Secretary) for a 2 -year or 3 -year term.  The current Committee ',\n",
       " 'membership includes Veterans of the Air Force, Navy, Army, Marine Corps, and ',\n",
       " 'National Guar d.  Members represent a variety of military career fields and possess ',\n",
       " 'extensive military experience, to include service in the Persian Gulf War, and Operation ',\n",
       " 'Enduring Freedom/Operation Iraqi Freedom/Operation New Dawn (OEF/OIF/OND).  ',\n",
       " ' ',\n",
       " 'A total of seven recommendations with supporting rationale, as well as response s from ',\n",
       " 'VA, are provided in this report.  Recommendations stem from data and information ',\n",
       " 'gathered in exchange with VA officials, women Veterans, researchers, Veterans Service ',\n",
       " 'Organizations, and site visits to Veterans Health Administration (VHA), National ',\n",
       " 'Cemetery Administration (NCA), and Veterans Benefits Administration (VBA) facilities.  ',\n",
       " 'The recommendations and supporting rationales provide insightful advice for VA to ',\n",
       " 'strategica lly and efficiently address the evolving  needs of women Veterans.   ',\n",
       " ' ',\n",
       " 'Highlight s ',\n",
       " '• Veterans Benefits Administration (VBA) should conduct a study to identify ',\n",
       " 'barriers impacting women Veterans’ access to the benefits it administers, and ',\n",
       " 'develop an action plan to address the barriers identified .   ',\n",
       " '• VA should conduct a comprehensive needs assessment of the women Veterans ',\n",
       " 'population.  ',\n",
       " '• VA should identify Veterans who  were directly billed for non -VA care, reimburse ',\n",
       " 'them for payments made, provide assistance to repair credit, and set ',\n",
       " 'mechanisms in place to prevent direct billing.    ',\n",
       " 'women Veterans encounter during their military service.  ',\n",
       " '• VA should explore the  effectiveness of novel psychotherapeutic and ',\n",
       " 'psychopharmacological treatment modalities, for clinical practice in th e treatment ',\n",
       " 'of military sexual trauma -related conditions.   ',\n",
       " '• VA should examine the current utilization of women Veterans program managers ',\n",
       " '(WVPMs) across the enterprise, to ensure that they are functioning in the  role as ',\n",
       " 'defined in the position description.  ',\n",
       " '• VA should allocate additional resources to the Center for Women Veterans, ',\n",
       " 'increase support for the Advisory Committee on Women Veterans’ activities . ',\n",
       " ' ',\n",
       " ' ',\n",
       " '  ']"
      ]
     },
     "execution_count": 20,
     "metadata": {},
     "output_type": "execute_result"
    }
   ],
   "source": [
    "# remove the header from the summary\n",
    "executive_summary = [item.replace('·', '') for item in executive_summary] # remove the bullet points \"·\"\n",
    "executive_summary"
   ]
  },
  {
   "cell_type": "code",
   "execution_count": 21,
   "id": "864062e1",
   "metadata": {},
   "outputs": [
    {
     "name": "stdout",
     "output_type": "stream",
     "text": [
      "['The Department of Veterans Affairs (VA) Advisory Committee on Women Veterans’', '2018 report provides recommendations and supporting rationales that address the following issues: • Identif ication of  Barriers to  Accessing Benefits • Assessment of  the Comprehensive Needs for Women Veterans • Direct Billing of Veterans for Non -VA Care • Identification of  Women Veterans’ Military Occupations and Hazardous', 'Exposures • Consideration of Non -traditional Treatments for Military Sexual Trauma -related', \"Conditions • Assessment of  the Women Veterans Program Managers Program • Increas ed Support for Advisory Committee on Women Veterans ' Activities \", 'The report of the Advisory Committee on Women Veterans (Committee) is submitted biennially by the Committee.  The Committee members are app ointed by the Secretary of Veterans Affairs (Secretary) for a 2 -year or 3 -year term.  The current Committee membership includes Veterans of the Air Force, Navy, Army, Marine Corps, and', 'National Guar d.  Members represent a variety of military career fields and possess extensive military experience, to include service in the Persian Gulf War, and Operation', 'Enduring Freedom/Operation Iraqi Freedom/Operation New Dawn (OEF/OIF/OND). ', 'A total of seven recommendations with supporting rationale, as well as response s from', 'VA, are provided in this report.  Recommendations stem from data and information gathered in exchange with VA officials, women Veterans, researchers, Veterans Service', 'Organizations, and site visits to Veterans Health Administration (VHA), National', 'Cemetery Administration (NCA), and Veterans Benefits Administration (VBA) facilities.', 'The recommendations and supporting rationales provide insightful advice for VA to strategica lly and efficiently address the evolving  needs of women Veterans. ', 'Highlight s • Veterans Benefits Administration (VBA) should conduct a study to identify barriers impacting women Veterans’ access to the benefits it administers, and develop an action plan to address the barriers identified . • VA should conduct a comprehensive needs assessment of the women Veterans population. • VA should identify Veterans who  were directly billed for non -VA care, reimburse them for payments made, provide assistance to repair credit, and set mechanisms in place to prevent direct billing. women Veterans encounter during their military service. • VA should explore the  effectiveness of novel psychotherapeutic and psychopharmacological treatment modalities, for clinical practice in th e treatment of military sexual trauma -related conditions. • VA should examine the current utilization of women Veterans program managers (WVPMs) across the enterprise, to ensure that they are functioning in the  role as defined in the position description. • VA should allocate additional resources to the Center for Women Veterans, increase support for the Advisory Committee on Women Veterans’ activities .   ']\n"
     ]
    }
   ],
   "source": [
    "paragraphs = []\n",
    "pdf_lines = executive_summary\n",
    "current_paragraph = [pdf_lines[0].strip()]\n",
    "\n",
    "for line in pdf_lines[1:]:\n",
    "    if len(line) > 0 and (line[0].isupper() or line[0].isdigit()):\n",
    "        # New paragraph\n",
    "        paragraphs.append(' '.join(current_paragraph))\n",
    "        current_paragraph = [line.strip()]\n",
    "    else:\n",
    "        # Continue current paragraph\n",
    "        current_paragraph[-1] += ' ' + line.strip()\n",
    "\n",
    "# Add the last paragraph\n",
    "paragraphs.append(' '.join(current_paragraph))\n",
    "\n",
    "print(paragraphs)"
   ]
  },
  {
   "cell_type": "code",
   "execution_count": 22,
   "id": "649924f4",
   "metadata": {},
   "outputs": [
    {
     "data": {
      "text/plain": [
       "13"
      ]
     },
     "execution_count": 22,
     "metadata": {},
     "output_type": "execute_result"
    }
   ],
   "source": [
    "len(paragraphs)"
   ]
  },
  {
   "cell_type": "code",
   "execution_count": 23,
   "id": "c2cf4ed9",
   "metadata": {},
   "outputs": [
    {
     "data": {
      "text/plain": [
       "\"The Department of Veterans Affairs (VA) Advisory Committee on Women Veterans’2018 report provides recommendations and supporting rationales that address the following issues: • Identif ication of  Barriers to  Accessing Benefits • Assessment of  the Comprehensive Needs for Women Veterans • Direct Billing of Veterans for Non -VA Care • Identification of  Women Veterans’ Military Occupations and HazardousExposures • Consideration of Non -traditional Treatments for Military Sexual Trauma -relatedConditions • Assessment of  the Women Veterans Program Managers Program • Increas ed Support for Advisory Committee on Women Veterans ' Activities The report of the Advisory Committee on Women Veterans (Committee) is submitted biennially by the Committee.  The Committee members are app ointed by the Secretary of Veterans Affairs (Secretary) for a 2 -year or 3 -year term.  The current Committee membership includes Veterans of the Air Force, Navy, Army, Marine Corps, andNational Guar d.  Members represent a variety of military career fields and possess extensive military experience, to include service in the Persian Gulf War, and OperationEnduring Freedom/Operation Iraqi Freedom/Operation New Dawn (OEF/OIF/OND). A total of seven recommendations with supporting rationale, as well as response s fromVA, are provided in this report.  Recommendations stem from data and information gathered in exchange with VA officials, women Veterans, researchers, Veterans ServiceOrganizations, and site visits to Veterans Health Administration (VHA), NationalCemetery Administration (NCA), and Veterans Benefits Administration (VBA) facilities.The recommendations and supporting rationales provide insightful advice for VA to strategica lly and efficiently address the evolving  needs of women Veterans. Highlight s • Veterans Benefits Administration (VBA) should conduct a study to identify barriers impacting women Veterans’ access to the benefits it administers, and develop an action plan to address the barriers identified . • VA should conduct a comprehensive needs assessment of the women Veterans population. • VA should identify Veterans who  were directly billed for non -VA care, reimburse them for payments made, provide assistance to repair credit, and set mechanisms in place to prevent direct billing. women Veterans encounter during their military service. • VA should explore the  effectiveness of novel psychotherapeutic and psychopharmacological treatment modalities, for clinical practice in th e treatment of military sexual trauma -related conditions. • VA should examine the current utilization of women Veterans program managers (WVPMs) across the enterprise, to ensure that they are functioning in the  role as defined in the position description. • VA should allocate additional resources to the Center for Women Veterans, increase support for the Advisory Committee on Women Veterans’ activities .   \""
      ]
     },
     "execution_count": 23,
     "metadata": {},
     "output_type": "execute_result"
    }
   ],
   "source": [
    "combined_string = ''.join(paragraphs)\n",
    "combined_string"
   ]
  },
  {
   "cell_type": "code",
   "execution_count": 24,
   "id": "3f98cc77",
   "metadata": {},
   "outputs": [
    {
     "data": {
      "text/plain": [
       "[\"The Department of Veterans Affairs (VA) Advisory Committee on Women Veterans’2018 report provides recommendations and supporting rationales that address the following issues: • Identif ication of  Barriers to  Accessing Benefits • Assessment of  the Comprehensive Needs for Women Veterans • Direct Billing of Veterans for Non -VA Care • Identification of  Women Veterans’ Military Occupations and HazardousExposures • Consideration of Non -traditional Treatments for Military Sexual Trauma -relatedConditions • Assessment of  the Women Veterans Program Managers Program • Increas ed Support for Advisory Committee on Women Veterans ' Activities The report of the Advisory Committee on Women Veterans (Committee) is submitted biennially by the Committee.  The Committee members are app ointed by the Secretary of Veterans Affairs (Secretary) for a 2 -year or 3 -year term.  The current Committee membership includes Veterans of the Air Force, Navy, Army, Marine Corps, andNational Guar d.  Members represent a variety of military career fields and possess extensive military experience, to include service in the Persian Gulf War, and OperationEnduring Freedom/Operation Iraqi Freedom/Operation New Dawn (OEF/OIF/OND). A total of seven recommendations with supporting rationale, as well as response s fromVA, are provided in this report.  Recommendations stem from data and information gathered in exchange with VA officials, women Veterans, researchers, Veterans ServiceOrganizations, and site visits to Veterans Health Administration (VHA), NationalCemetery Administration (NCA), and Veterans Benefits Administration (VBA) facilities.The recommendations and supporting rationales provide insightful advice for VA to strategica lly and efficiently address the evolving  needs of women Veterans. \",\n",
       " ' s • Veterans Benefits Administration (VBA) should conduct a study to identify barriers impacting women Veterans’ access to the benefits it administers, and develop an action plan to address the barriers identified . • VA should conduct a comprehensive needs assessment of the women Veterans population. • VA should identify Veterans who  were directly billed for non -VA care, reimburse them for payments made, provide assistance to repair credit, and set mechanisms in place to prevent direct billing. women Veterans encounter during their military service. • VA should explore the  effectiveness of novel psychotherapeutic and psychopharmacological treatment modalities, for clinical practice in th e treatment of military sexual trauma -related conditions. • VA should examine the current utilization of women Veterans program managers (WVPMs) across the enterprise, to ensure that they are functioning in the  role as defined in the position description. • VA should allocate additional resources to the Center for Women Veterans, increase support for the Advisory Committee on Women Veterans’ activities .   ']"
      ]
     },
     "execution_count": 24,
     "metadata": {},
     "output_type": "execute_result"
    }
   ],
   "source": [
    "combined_string = combined_string.split('Highlight')\n",
    "combined_string"
   ]
  },
  {
   "cell_type": "code",
   "execution_count": 25,
   "id": "ae1e4d81",
   "metadata": {},
   "outputs": [
    {
     "data": {
      "text/plain": [
       "2"
      ]
     },
     "execution_count": 25,
     "metadata": {},
     "output_type": "execute_result"
    }
   ],
   "source": [
    "len(combined_string)"
   ]
  },
  {
   "cell_type": "code",
   "execution_count": 26,
   "id": "b0883807",
   "metadata": {},
   "outputs": [
    {
     "data": {
      "text/html": [
       "<div>\n",
       "<style scoped>\n",
       "    .dataframe tbody tr th:only-of-type {\n",
       "        vertical-align: middle;\n",
       "    }\n",
       "\n",
       "    .dataframe tbody tr th {\n",
       "        vertical-align: top;\n",
       "    }\n",
       "\n",
       "    .dataframe thead th {\n",
       "        text-align: right;\n",
       "    }\n",
       "</style>\n",
       "<table border=\"1\" class=\"dataframe\">\n",
       "  <thead>\n",
       "    <tr style=\"text-align: right;\">\n",
       "      <th></th>\n",
       "      <th>executive_summary</th>\n",
       "      <th>highlights</th>\n",
       "    </tr>\n",
       "  </thead>\n",
       "  <tbody>\n",
       "    <tr>\n",
       "      <th>0</th>\n",
       "      <td>The Department of Veterans Affairs (VA) Advisory Committee on Women Veterans’2018 report provides recommendations and supporting rationales that address the following issues: • Identif ication of  Barriers to  Accessing Benefits • Assessment of  the Comprehensive Needs for Women Veterans • Direct Billing of Veterans for Non -VA Care • Identification of  Women Veterans’ Military Occupations and HazardousExposures • Consideration of Non -traditional Treatments for Military Sexual Trauma -relatedConditions • Assessment of  the Women Veterans Program Managers Program • Increas ed Support for Advisory Committee on Women Veterans ' Activities The report of the Advisory Committee on Women Veterans (Committee) is submitted biennially by the Committee.  The Committee members are app ointed by the Secretary of Veterans Affairs (Secretary) for a 2 -year or 3 -year term.  The current Committee membership includes Veterans of the Air Force, Navy, Army, Marine Corps, andNational Guar d.  Members represent a variety of military career fields and possess extensive military experience, to include service in the Persian Gulf War, and OperationEnduring Freedom/Operation Iraqi Freedom/Operation New Dawn (OEF/OIF/OND). A total of seven recommendations with supporting rationale, as well as response s fromVA, are provided in this report.  Recommendations stem from data and information gathered in exchange with VA officials, women Veterans, researchers, Veterans ServiceOrganizations, and site visits to Veterans Health Administration (VHA), NationalCemetery Administration (NCA), and Veterans Benefits Administration (VBA) facilities.The recommendations and supporting rationales provide insightful advice for VA to strategica lly and efficiently address the evolving  needs of women Veterans.</td>\n",
       "      <td>s • Veterans Benefits Administration (VBA) should conduct a study to identify barriers impacting women Veterans’ access to the benefits it administers, and develop an action plan to address the barriers identified . • VA should conduct a comprehensive needs assessment of the women Veterans population. • VA should identify Veterans who  were directly billed for non -VA care, reimburse them for payments made, provide assistance to repair credit, and set mechanisms in place to prevent direct billing. women Veterans encounter during their military service. • VA should explore the  effectiveness of novel psychotherapeutic and psychopharmacological treatment modalities, for clinical practice in th e treatment of military sexual trauma -related conditions. • VA should examine the current utilization of women Veterans program managers (WVPMs) across the enterprise, to ensure that they are functioning in the  role as defined in the position description. • VA should allocate additional resources to the Center for Women Veterans, increase support for the Advisory Committee on Women Veterans’ activities .</td>\n",
       "    </tr>\n",
       "  </tbody>\n",
       "</table>\n",
       "</div>"
      ],
      "text/plain": [
       "                                                                                                                                                                                                                                                                                                                                                                                                                                                                                                                                                                                                                                                                                                                                                                                                                                                                                                                                                                                                                                                                                                                                                                                                                                                                                                                                                                                                                                                                                                                                                                                                                                                                                                                                                                                                                                                     executive_summary  \\\n",
       "0  The Department of Veterans Affairs (VA) Advisory Committee on Women Veterans’2018 report provides recommendations and supporting rationales that address the following issues: • Identif ication of  Barriers to  Accessing Benefits • Assessment of  the Comprehensive Needs for Women Veterans • Direct Billing of Veterans for Non -VA Care • Identification of  Women Veterans’ Military Occupations and HazardousExposures • Consideration of Non -traditional Treatments for Military Sexual Trauma -relatedConditions • Assessment of  the Women Veterans Program Managers Program • Increas ed Support for Advisory Committee on Women Veterans ' Activities The report of the Advisory Committee on Women Veterans (Committee) is submitted biennially by the Committee.  The Committee members are app ointed by the Secretary of Veterans Affairs (Secretary) for a 2 -year or 3 -year term.  The current Committee membership includes Veterans of the Air Force, Navy, Army, Marine Corps, andNational Guar d.  Members represent a variety of military career fields and possess extensive military experience, to include service in the Persian Gulf War, and OperationEnduring Freedom/Operation Iraqi Freedom/Operation New Dawn (OEF/OIF/OND). A total of seven recommendations with supporting rationale, as well as response s fromVA, are provided in this report.  Recommendations stem from data and information gathered in exchange with VA officials, women Veterans, researchers, Veterans ServiceOrganizations, and site visits to Veterans Health Administration (VHA), NationalCemetery Administration (NCA), and Veterans Benefits Administration (VBA) facilities.The recommendations and supporting rationales provide insightful advice for VA to strategica lly and efficiently address the evolving  needs of women Veterans.    \n",
       "\n",
       "                                                                                                                                                                                                                                                                                                                                                                                                                                                                                                                                                                                                                                                                                                                                                                                                                                                                                                                                                                                                                                                                                                                                                   highlights  \n",
       "0   s • Veterans Benefits Administration (VBA) should conduct a study to identify barriers impacting women Veterans’ access to the benefits it administers, and develop an action plan to address the barriers identified . • VA should conduct a comprehensive needs assessment of the women Veterans population. • VA should identify Veterans who  were directly billed for non -VA care, reimburse them for payments made, provide assistance to repair credit, and set mechanisms in place to prevent direct billing. women Veterans encounter during their military service. • VA should explore the  effectiveness of novel psychotherapeutic and psychopharmacological treatment modalities, for clinical practice in th e treatment of military sexual trauma -related conditions. • VA should examine the current utilization of women Veterans program managers (WVPMs) across the enterprise, to ensure that they are functioning in the  role as defined in the position description. • VA should allocate additional resources to the Center for Women Veterans, increase support for the Advisory Committee on Women Veterans’ activities .     "
      ]
     },
     "execution_count": 26,
     "metadata": {},
     "output_type": "execute_result"
    }
   ],
   "source": [
    "df_summary = pd.DataFrame({'executive_summary': [combined_string[0]], 'highlights': [combined_string[1]]})\n",
    "pd.set_option('display.max_colwidth', None)\n",
    "df_summary"
   ]
  },
  {
   "cell_type": "markdown",
   "id": "56a488a0",
   "metadata": {},
   "source": [
    "#### The following worked best\n",
    "#### Note: It missed Recommendation #6 if we did not do proper regular expressions for those types or spaces"
   ]
  },
  {
   "cell_type": "code",
   "execution_count": 27,
   "id": "92b3b8bf",
   "metadata": {},
   "outputs": [],
   "source": [
    "text = ''\n",
    "output = []\n",
    "\n",
    "for page in range(7, 26):\n",
    "    page_text = pdf_reader.pages[page].extract_text()\n",
    "    page_text = page_text.splitlines()\n",
    "    page_text = ''.join(page_text)\n",
    "    text += page_text\n",
    "\n",
    "#matches = re.findall(r\"Recommendation:(.*?)(?:Ratio|$)\", text, re.DOTALL)\n",
    "#matches = re.findall(r\"Recommendation:\\s*(.*?)(?:Ratio|$)\", text, re.DOTALL) # did not work for Recommendation_:\n",
    "matches = re.findall(r\"Recommendation\\s*:\\s*(.*?)(?:Ratio|$)\", text, re.DOTALL)\n",
    "for match in matches:\n",
    "    output.append(match.strip())\n"
   ]
  },
  {
   "cell_type": "code",
   "execution_count": 28,
   "id": "78cee4ca",
   "metadata": {},
   "outputs": [
    {
     "data": {
      "text/html": [
       "<div>\n",
       "<style scoped>\n",
       "    .dataframe tbody tr th:only-of-type {\n",
       "        vertical-align: middle;\n",
       "    }\n",
       "\n",
       "    .dataframe tbody tr th {\n",
       "        vertical-align: top;\n",
       "    }\n",
       "\n",
       "    .dataframe thead th {\n",
       "        text-align: right;\n",
       "    }\n",
       "</style>\n",
       "<table border=\"1\" class=\"dataframe\">\n",
       "  <thead>\n",
       "    <tr style=\"text-align: right;\">\n",
       "      <th></th>\n",
       "      <th>recommendation</th>\n",
       "    </tr>\n",
       "  </thead>\n",
       "  <tbody>\n",
       "    <tr>\n",
       "      <th>0</th>\n",
       "      <td>1. That the Veterans Benefits Administration (VBA)  conduct a comprehensive study to identify barriers impacting women Veterans’  access  to the benefits  it administers , and develop an action plan  with specific performance metrics to correct identified disparities.</td>\n",
       "    </tr>\n",
       "    <tr>\n",
       "      <th>1</th>\n",
       "      <td>2. That VA conduct a comprehensive needs assessment of the women Veteran s population that encompasses anticipated long -term needs as they age , and develop an action plan to ensure identified gaps are filled —including but not limited to staffing, facilities, budgeting, training , and community -based resources .</td>\n",
       "    </tr>\n",
       "    <tr>\n",
       "      <th>2</th>\n",
       "      <td>3. That VA identify Veterans who —through  utilization of  non-VA health care  for eligible services —were billed directly for those service s, have either paid the charges out -of-pocket and/or received collection notices , and have experienced an adverse impact on their credit .  That VA implement  policies and processes to retroactively reimburse claims for eligible medical expenses paid for out o f pocket.    That  VA take appropriate action to repair the credit of affected Veterans and lobby for legislation to require credit bureaus to remove derogatory information.   Finally, that VA include a clause in the policy governing community care that would  preclude non-VA providers from direct billing of Veterans for eligible  services  in the future.</td>\n",
       "    </tr>\n",
       "    <tr>\n",
       "      <th>3</th>\n",
       "      <td>4. That VA capture and document occupational and other hazard ous exposures women Veterans  encounter  during their military service, and develop a comprehensive education program  on identification and treatment of adverse health outcomes resulting from such exposures , for VA providers  and non -VA providers .</td>\n",
       "    </tr>\n",
       "    <tr>\n",
       "      <th>4</th>\n",
       "      <td>5. That VHA provide resources and training  to expand available treatment options , as well as research the effectiveness of novel psychotherapeutic and psychopharmacological treatment modalities, for clinical practice in the treatment of military sexual trauma -related conditions.                                                     12 National Health and Nutrition Examination Survey, Centers for Disease Control and Prevention. Retrieved from: https://www.cdc.gov/nchs/nhanes/index.htm .  19</td>\n",
       "    </tr>\n",
       "    <tr>\n",
       "      <th>5</th>\n",
       "      <td>6. That VHA review the current activities and utilization of women Veteran s program managers (WVPM s) across the enterprise , to identify discrepancies between the ir intended role as defined in the position description (VHA Handbook 1330.02) and their actual utilization.   That VA incorporate dedicated training for  Veterans Integrated Service Network (VISN)  and facility leadership  on the role s and responsibilities of the WVPMs , and their responsibility to ensure that the WVPMs have adequate resources to effectively execute these roles and responsibilities .   That VA develop an incentive program , to recognize high performi ng programs and staff that serve women Veterans.    22</td>\n",
       "    </tr>\n",
       "    <tr>\n",
       "      <th>6</th>\n",
       "      <td>7. That VA allocate additional  resources (funding and staffing) to the Center for Women Veterans , so it will be able to effectively support projected  enhancement of Advisory Committee on Women Veterans activities —such as increasing the frequency of regular meetings  and conducting focus groups —and enable  the Committee to better accomplish  its mission.</td>\n",
       "    </tr>\n",
       "  </tbody>\n",
       "</table>\n",
       "</div>"
      ],
      "text/plain": [
       "                                                                                                                                                                                                                                                                                                                                                                                                                                                                                                                                                                                                                                                                                                                                                                              recommendation\n",
       "0                                                                                                                                                                                                                                                                                                                                                                                                                                                                                                               1. That the Veterans Benefits Administration (VBA)  conduct a comprehensive study to identify barriers impacting women Veterans’  access  to the benefits  it administers , and develop an action plan  with specific performance metrics to correct identified disparities.\n",
       "1                                                                                                                                                                                                                                                                                                                                                                                                                                                               2. That VA conduct a comprehensive needs assessment of the women Veteran s population that encompasses anticipated long -term needs as they age , and develop an action plan to ensure identified gaps are filled —including but not limited to staffing, facilities, budgeting, training , and community -based resources .\n",
       "2  3. That VA identify Veterans who —through  utilization of  non-VA health care  for eligible services —were billed directly for those service s, have either paid the charges out -of-pocket and/or received collection notices , and have experienced an adverse impact on their credit .  That VA implement  policies and processes to retroactively reimburse claims for eligible medical expenses paid for out o f pocket.    That  VA take appropriate action to repair the credit of affected Veterans and lobby for legislation to require credit bureaus to remove derogatory information.   Finally, that VA include a clause in the policy governing community care that would  preclude non-VA providers from direct billing of Veterans for eligible  services  in the future.\n",
       "3                                                                                                                                                                                                                                                                                                                                                                                                                                                                  4. That VA capture and document occupational and other hazard ous exposures women Veterans  encounter  during their military service, and develop a comprehensive education program  on identification and treatment of adverse health outcomes resulting from such exposures , for VA providers  and non -VA providers .\n",
       "4                                                                                                                                                                                                                                                                            5. That VHA provide resources and training  to expand available treatment options , as well as research the effectiveness of novel psychotherapeutic and psychopharmacological treatment modalities, for clinical practice in the treatment of military sexual trauma -related conditions.                                                     12 National Health and Nutrition Examination Survey, Centers for Disease Control and Prevention. Retrieved from: https://www.cdc.gov/nchs/nhanes/index.htm .  19\n",
       "5                                                                      6. That VHA review the current activities and utilization of women Veteran s program managers (WVPM s) across the enterprise , to identify discrepancies between the ir intended role as defined in the position description (VHA Handbook 1330.02) and their actual utilization.   That VA incorporate dedicated training for  Veterans Integrated Service Network (VISN)  and facility leadership  on the role s and responsibilities of the WVPMs , and their responsibility to ensure that the WVPMs have adequate resources to effectively execute these roles and responsibilities .   That VA develop an incentive program , to recognize high performi ng programs and staff that serve women Veterans.    22\n",
       "6                                                                                                                                                                                                                                                                                                                                                                                                                   7. That VA allocate additional  resources (funding and staffing) to the Center for Women Veterans , so it will be able to effectively support projected  enhancement of Advisory Committee on Women Veterans activities —such as increasing the frequency of regular meetings  and conducting focus groups —and enable  the Committee to better accomplish  its mission."
      ]
     },
     "execution_count": 28,
     "metadata": {},
     "output_type": "execute_result"
    }
   ],
   "source": [
    "recommendation = pd.DataFrame({'recommendation': output})\n",
    "recommendation"
   ]
  },
  {
   "cell_type": "code",
   "execution_count": null,
   "id": "897d558b",
   "metadata": {},
   "outputs": [],
   "source": []
  }
 ],
 "metadata": {
  "kernelspec": {
   "display_name": "Python 3 (ipykernel)",
   "language": "python",
   "name": "python3"
  },
  "language_info": {
   "codemirror_mode": {
    "name": "ipython",
    "version": 3
   },
   "file_extension": ".py",
   "mimetype": "text/x-python",
   "name": "python",
   "nbconvert_exporter": "python",
   "pygments_lexer": "ipython3",
   "version": "3.8.8"
  }
 },
 "nbformat": 4,
 "nbformat_minor": 5
}
